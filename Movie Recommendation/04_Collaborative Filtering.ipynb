{
 "cells": [
  {
   "cell_type": "markdown",
   "metadata": {},
   "source": [
    "## Recommendations with MovieTweetings: Collaborative Filtering\n",
    "\n",
    "One of the most popular methods for making recommendations is **collaborative filtering**.  In collaborative filtering, you are using the collaboration of user-item recommendations to assist in making new recommendations.  \n",
    "\n",
    "There are two main methods of performing collaborative filtering:\n",
    "\n",
    "1. **Neighborhood-Based Collaborative Filtering**, which is based on the idea that we can either correlate items that are similar to provide recommendations or we can correlate users to one another to provide recommendations.\n",
    "\n",
    "2. **Model Based Collaborative Filtering**, which is based on the idea that we can use machine learning and other mathematical models to understand the relationships that exist amongst items and users to predict ratings and provide ratings.\n",
    "\n",
    "\n",
    "In this notebook, you will be working on performing **neighborhood-based collaborative filtering**.  There are two main methods for performing collaborative filtering:\n",
    "\n",
    "1. **User-based collaborative filtering:** In this type of recommendation, users related to the user you would like to make recommendations for are used to create a recommendation.\n",
    "\n",
    "2. **Item-based collaborative filtering:** In this type of recommendation, first you need to find the items that are most related to each other item (based on similar ratings).  Then you can use the ratings of an individual on those similar items to understand if a user will like the new item.\n",
    "\n",
    "In this notebook you will be implementing **user-based collaborative filtering**.  However, it is easy to extend this approach to make recommendations using **item-based collaborative filtering**.  First, let's read in our data and necessary libraries."
   ]
  },
  {
   "cell_type": "code",
   "execution_count": 8,
   "metadata": {
    "ExecuteTime": {
     "end_time": "2020-09-22T21:06:37.027487Z",
     "start_time": "2020-09-22T21:06:35.024792Z"
    }
   },
   "outputs": [
    {
     "name": "stdout",
     "output_type": "stream",
     "text": [
      "   user_id  movie_id  rating   timestamp                 date  month_1  \\\n",
      "0        1     68646      10  1381620027  2013-10-12 23:20:27        0   \n",
      "1        1    113277      10  1379466669  2013-09-18 01:11:09        0   \n",
      "2        2    422720       8  1412178746  2014-10-01 15:52:26        0   \n",
      "3        2    454876       8  1394818630  2014-03-14 17:37:10        0   \n",
      "4        2    790636       7  1389963947  2014-01-17 13:05:47        0   \n",
      "\n",
      "   month_2  month_3  month_4  month_5  ...  month_9  month_10  month_11  \\\n",
      "0        0        0        0        0  ...        0         1         0   \n",
      "1        0        0        0        0  ...        0         0         0   \n",
      "2        0        0        0        0  ...        0         1         0   \n",
      "3        0        0        0        0  ...        0         0         0   \n",
      "4        0        0        0        0  ...        0         0         0   \n",
      "\n",
      "   month_12  year_2013  year_2014  year_2015  year_2016  year_2017  year_2018  \n",
      "0         0          1          0          0          0          0          0  \n",
      "1         0          1          0          0          0          0          0  \n",
      "2         0          0          1          0          0          0          0  \n",
      "3         0          0          1          0          0          0          0  \n",
      "4         0          0          1          0          0          0          0  \n",
      "\n",
      "[5 rows x 23 columns]\n"
     ]
    }
   ],
   "source": [
    "import numpy as np\n",
    "import pandas as pd\n",
    "import matplotlib.pyplot as plt\n",
    "import tests as t\n",
    "import progressbar\n",
    "from scipy.sparse import csr_matrix\n",
    "from IPython.display import HTML\n",
    "from tqdm import tqdm\n",
    "\n",
    "\n",
    "%matplotlib inline\n",
    "\n",
    "# Read in the datasets\n",
    "movies = pd.read_csv('movies_clean.csv')\n",
    "reviews = pd.read_csv('reviews_clean.csv')\n",
    "\n",
    "del movies['Unnamed: 0']\n",
    "del reviews['Unnamed: 0']\n",
    "\n",
    "print(reviews.head())"
   ]
  },
  {
   "cell_type": "markdown",
   "metadata": {},
   "source": [
    "### Measures of Similarity\n",
    "\n",
    "When using **neighborhood** based collaborative filtering, it is important to understand how to measure the similarity of users or items to one another.  \n",
    "\n",
    "There are a number of ways in which we might measure the similarity between two vectors (which might be two users or two items).  In this notebook, we will look specifically at two measures used to compare vectors:\n",
    "\n",
    "* **Pearson's correlation coefficient**\n",
    "\n",
    "Pearson's correlation coefficient is a measure of the strength and direction of a linear relationship. The value for this coefficient is a value between -1 and 1 where -1 indicates a strong, negative linear relationship and 1 indicates a strong, positive linear relationship. \n",
    "\n",
    "If we have two vectors **x** and **y**, we can define the correlation between the vectors as:\n",
    "\n",
    "\n",
    "$$CORR(x, y) = \\frac{\\text{COV}(x, y)}{\\text{STDEV}(x)\\text{ }\\text{STDEV}(y)}$$\n",
    "\n",
    "where \n",
    "\n",
    "$$\\text{STDEV}(x) = \\sqrt{\\frac{1}{n-1}\\sum_{i=1}^{n}(x_i - \\bar{x})^2}$$\n",
    "\n",
    "and \n",
    "\n",
    "$$\\text{COV}(x, y) = \\frac{1}{n-1}\\sum_{i=1}^{n}(x_i - \\bar{x})(y_i - \\bar{y})$$\n",
    "\n",
    "where n is the length of the vector, which must be the same for both x and y and $\\bar{x}$ is the mean of the observations in the vector.  \n",
    "\n",
    "We can use the correlation coefficient to indicate how alike two vectors are to one another, where the closer to 1 the coefficient, the more alike the vectors are to one another.  There are some potential downsides to using this metric as a measure of similarity.  You will see some of these throughout this workbook.\n",
    "\n",
    "\n",
    "* **Euclidean distance**\n",
    "\n",
    "Euclidean distance is a measure of the straightline distance from one vector to another.  Because this is a measure of distance, larger values are an indication that two vectors are different from one another (which is different than Pearson's correlation coefficient).\n",
    "\n",
    "Specifically, the euclidean distance between two vectors **x** and **y** is measured as:\n",
    "\n",
    "$$ \\text{EUCL}(x, y) = \\sqrt{\\sum_{i=1}^{n}(x_i - y_i)^2}$$\n",
    "\n",
    "Different from the correlation coefficient, no scaling is performed in the denominator.  Therefore, you need to make sure all of your data are on the same scale when using this metric.\n",
    "\n",
    "**Note:** Because measuring similarity is often based on looking at the distance between vectors, it is important in these cases to scale your data or to have all data be in the same scale.  In this case, we will not need to scale data because they are all on a 10 point scale, but it is always something to keep in mind!\n",
    "\n",
    "------------\n",
    "\n",
    "### User-Item Matrix\n",
    "\n",
    "In order to calculate the similarities, it is common to put values in a matrix.  In this matrix, users are identified by each row, and items are represented by columns.  \n",
    "\n",
    "\n",
    "![alt text](images/userxitem.png \"User Item Matrix\")\n"
   ]
  },
  {
   "cell_type": "markdown",
   "metadata": {},
   "source": [
    "In the above matrix, you can see that **User 1** and **User 2** both used **Item 1**, and **User 2**, **User 3**, and **User 4** all used **Item 2**.  However, there are also a large number of missing values in the matrix for users who haven't used a particular item.  A matrix with many missing values (like the one above) is considered **sparse**.\n",
    "\n",
    "Our first goal for this notebook is to create the above matrix with the **reviews** dataset.  However, instead of 1 values in each cell, you should have the actual rating.  \n",
    "\n",
    "The users will indicate the rows, and the movies will exist across the columns. To create the user-item matrix, we only need the first three columns of the **reviews** dataframe, which you can see by running the cell below."
   ]
  },
  {
   "cell_type": "code",
   "execution_count": 2,
   "metadata": {
    "ExecuteTime": {
     "end_time": "2020-09-22T21:00:24.708888Z",
     "start_time": "2020-09-22T21:00:24.686533Z"
    }
   },
   "outputs": [
    {
     "data": {
      "text/html": [
       "<div>\n",
       "<style scoped>\n",
       "    .dataframe tbody tr th:only-of-type {\n",
       "        vertical-align: middle;\n",
       "    }\n",
       "\n",
       "    .dataframe tbody tr th {\n",
       "        vertical-align: top;\n",
       "    }\n",
       "\n",
       "    .dataframe thead th {\n",
       "        text-align: right;\n",
       "    }\n",
       "</style>\n",
       "<table border=\"1\" class=\"dataframe\">\n",
       "  <thead>\n",
       "    <tr style=\"text-align: right;\">\n",
       "      <th></th>\n",
       "      <th>user_id</th>\n",
       "      <th>movie_id</th>\n",
       "      <th>rating</th>\n",
       "    </tr>\n",
       "  </thead>\n",
       "  <tbody>\n",
       "    <tr>\n",
       "      <td>0</td>\n",
       "      <td>1</td>\n",
       "      <td>68646</td>\n",
       "      <td>10</td>\n",
       "    </tr>\n",
       "    <tr>\n",
       "      <td>1</td>\n",
       "      <td>1</td>\n",
       "      <td>113277</td>\n",
       "      <td>10</td>\n",
       "    </tr>\n",
       "    <tr>\n",
       "      <td>2</td>\n",
       "      <td>2</td>\n",
       "      <td>422720</td>\n",
       "      <td>8</td>\n",
       "    </tr>\n",
       "    <tr>\n",
       "      <td>3</td>\n",
       "      <td>2</td>\n",
       "      <td>454876</td>\n",
       "      <td>8</td>\n",
       "    </tr>\n",
       "    <tr>\n",
       "      <td>4</td>\n",
       "      <td>2</td>\n",
       "      <td>790636</td>\n",
       "      <td>7</td>\n",
       "    </tr>\n",
       "  </tbody>\n",
       "</table>\n",
       "</div>"
      ],
      "text/plain": [
       "   user_id  movie_id  rating\n",
       "0        1     68646      10\n",
       "1        1    113277      10\n",
       "2        2    422720       8\n",
       "3        2    454876       8\n",
       "4        2    790636       7"
      ]
     },
     "execution_count": 2,
     "metadata": {},
     "output_type": "execute_result"
    }
   ],
   "source": [
    "user_items = reviews[['user_id', 'movie_id', 'rating']]\n",
    "user_items.head()"
   ]
  },
  {
   "cell_type": "markdown",
   "metadata": {},
   "source": [
    "### Creating the User-Item Matrix\n",
    "Task: Turn long matrix into wide matrix\n",
    "Method 1: [pivot table](https://pandas.pydata.org/pandas-docs/stable/generated/pandas.pivot_table.html). \n",
    "\n",
    " Solve memory issue: [this link here](https://stackoverflow.com/questions/39648991/pandas-dataframe-pivot-memory-error)  <br>\n",
    "\n",
    "Method 2: groupby + aggregate \n"
   ]
  },
  {
   "cell_type": "code",
   "execution_count": 3,
   "metadata": {
    "ExecuteTime": {
     "end_time": "2020-09-22T21:00:45.836384Z",
     "start_time": "2020-09-22T21:00:26.793371Z"
    }
   },
   "outputs": [],
   "source": [
    "# Create user-by-item matrix\n",
    "user_by_movie = user_items.groupby(['user_id', 'movie_id'])['rating'].max().unstack()"
   ]
  },
  {
   "cell_type": "markdown",
   "metadata": {},
   "source": [
    "Check your results below to make sure your matrix is ready for the upcoming sections."
   ]
  },
  {
   "cell_type": "code",
   "execution_count": 41,
   "metadata": {
    "ExecuteTime": {
     "end_time": "2020-09-22T21:31:26.577593Z",
     "start_time": "2020-09-22T21:31:26.540685Z"
    }
   },
   "outputs": [
    {
     "name": "stdout",
     "output_type": "stream",
     "text": [
      "All set\n"
     ]
    }
   ],
   "source": [
    "assert movies.shape[0] == user_by_movie.shape[1], \"Oh no! Your matrix should have {} columns, and yours has {}!\".format(movies.shape[0], user_by_movie.shape[1])\n",
    "assert reviews.user_id.nunique() == user_by_movie.shape[0], \"Oh no! Your matrix should have {} rows, and yours has {}!\".format(reviews.user_id.nunique(), user_by_movie.shape[0])\n",
    "print(\"All set\")"
   ]
  },
  {
   "cell_type": "markdown",
   "metadata": {},
   "source": [
    "`2.` Now that you have a matrix of users by movies, use this matrix to create a dictionary where the key is each user and the value is an array of the movies each user has rated."
   ]
  },
  {
   "cell_type": "code",
   "execution_count": 45,
   "metadata": {
    "ExecuteTime": {
     "end_time": "2020-09-22T21:38:31.594211Z",
     "start_time": "2020-09-22T21:37:15.789000Z"
    }
   },
   "outputs": [
    {
     "name": "stdout",
     "output_type": "stream",
     "text": [
      "total number of users are: 53968\n"
     ]
    }
   ],
   "source": [
    "# Create a dictionary with users and corresponding movies seen\n",
    "\n",
    "def movies_watched(user_id,df=True):\n",
    "    '''\n",
    "    INPUT:\n",
    "    user_id - the user_id of an individual as int\n",
    "    OUTPUT:\n",
    "    movies - an array of movies the user has watched\n",
    "    '''\n",
    "    if df==True:\n",
    "        df=user_by_movie\n",
    "    \n",
    "    sub_df = df.loc[user_id][df.loc[user_id].isnull() == False]\n",
    "    movies= sub_df.index.values\n",
    "    return movies\n",
    "\n",
    "\n",
    "def create_user_movie_dict():\n",
    "    '''\n",
    "    INPUT: None\n",
    "    OUTPUT: movies_seen - a dictionary where each key is a user_id and the value is an array of movie_ids\n",
    "    \n",
    "    Creates the movies_seen dictionary\n",
    "    '''\n",
    "    movies_seen= dict()\n",
    "    num_users = user_by_movie.shape[0]\n",
    "    print(\"total number of users are:\",num_users)\n",
    "    \n",
    "#     for user in tqdm(range(1,num_users+1)):\n",
    "    for user in range(1,num_users+1)):\n",
    "        # store in dict\n",
    "        movies_seen[user]=movies_watched(user)\n",
    "    \n",
    "    return movies_seen\n",
    "    \n",
    "movies_seen = create_user_movie_dict()"
   ]
  },
  {
   "cell_type": "markdown",
   "metadata": {},
   "source": [
    "`3.` Filler users who watched less than n number of movie. start with **n=2**"
   ]
  },
  {
   "cell_type": "code",
   "execution_count": 44,
   "metadata": {
    "ExecuteTime": {
     "end_time": "2020-09-22T21:36:47.630514Z",
     "start_time": "2020-09-22T21:36:47.623756Z"
    }
   },
   "outputs": [],
   "source": [
    "def create_movies_to_analyze(movies_seen, lower_bound=2):\n",
    "    '''\n",
    "    INPUT:  \n",
    "    movies_seen - a dictionary where each key is a user_id and the value is an array of movie_ids\n",
    "    lower_bound - (an int) a user must have more movies seen than the lower bound\n",
    "\n",
    "    OUTPUT: \n",
    "    movies_to_analyze - a dictionary where each key is a user_id and the value is an array of movie_ids\n",
    "    \n",
    "    '''\n",
    "    movies_to_analyze = dict()\n",
    "    for user, movies in movies_seen.items():\n",
    "        if len(movies)>lower_bound:\n",
    "            movies_to_analyze[user]=movies\n",
    "    return movies_to_analyze"
   ]
  },
  {
   "cell_type": "code",
   "execution_count": 58,
   "metadata": {
    "ExecuteTime": {
     "end_time": "2020-09-22T22:09:43.042363Z",
     "start_time": "2020-09-22T22:09:43.018157Z"
    }
   },
   "outputs": [],
   "source": [
    "\n",
    "def create_movies_to_analyze(movies_seen, lower_bound=2):\n",
    "    '''\n",
    "    INPUT:  \n",
    "    movies_seen - a dictionary where each key is a user_id and the value is an array of movie_ids\n",
    "    lower_bound - (an int) a user must have more movies seen than the lower bound to be added to the movies_to_analyze dictionary\n",
    "\n",
    "    OUTPUT: \n",
    "    movies_to_analyze - a dictionary where each key is a user_id and the value is an array of movie_ids\n",
    "    \n",
    "    The movies_seen and movies_to_analyze dictionaries should be the same except that the output dictionary has removed \n",
    "    \n",
    "    '''\n",
    "    movies_to_analyze = dict()\n",
    "\n",
    "    for user, movies in movies_seen.items():\n",
    "        if len(movies) > lower_bound:\n",
    "            movies_to_analyze[user] = movies\n",
    "    return movies_to_analyze\n",
    "\n",
    "\n",
    "\n",
    "movies_to_analyze = create_movies_to_analyze(movies_seen)"
   ]
  },
  {
   "cell_type": "code",
   "execution_count": 59,
   "metadata": {
    "ExecuteTime": {
     "end_time": "2020-09-22T22:09:47.989216Z",
     "start_time": "2020-09-22T22:09:47.984331Z"
    }
   },
   "outputs": [
    {
     "name": "stdout",
     "output_type": "stream",
     "text": [
      "If this is all you see, you are good to go!\n"
     ]
    }
   ],
   "source": [
    "# Run the tests below to check that your movies_to_analyze matches the solution\n",
    "assert len(movies_to_analyze) == 23512, \"Oops!  It doesn't look like your dictionary has the right number of individuals.\"\n",
    "assert len(movies_to_analyze[2]) == 23, \"Oops!  User 2 didn't match the number of movies we thought they would have.\"\n",
    "assert len(movies_to_analyze[7])  == 3, \"Oops!  User 7 didn't match the number of movies we thought they would have.\"\n",
    "print(\"If this is all you see, you are good to go!\")"
   ]
  },
  {
   "cell_type": "markdown",
   "metadata": {},
   "source": [
    "### Calculating User Similarities\n",
    "\n",
    "From **movies_to_analyze** table, find similarities between users. \n",
    "```\n",
    "for user1 in movies_to_analyze\n",
    "    for user2 in movies_to_analyze\n",
    "        see how many movies match between the two users\n",
    "        if more than two movies in common\n",
    "            pull the overlapping movies\n",
    "            compute the distance/similarity metric between ratings on the same movies for the two users\n",
    "            store the users and the distance metric\n",
    "```\n",
    "\n",
    "Task: compute the [correlation](https://pandas.pydata.org/pandas-docs/stable/generated/pandas.DataFrame.corr.html) between users.\n",
    "\n",
    "`4.` Using the **movies_to_analyze** dictionary and **user_by_movie** dataframe, create a function that computes the correlation between the ratings of similar movies for two users.  Then use your function to compare your results to ours using the tests below.  "
   ]
  },
  {
   "cell_type": "code",
   "execution_count": 60,
   "metadata": {
    "ExecuteTime": {
     "end_time": "2020-09-22T22:10:01.413365Z",
     "start_time": "2020-09-22T22:10:01.406385Z"
    }
   },
   "outputs": [
    {
     "data": {
      "text/plain": [
       "Int64Index([      8,      10,      12,      25,      91,     417,     439,\n",
       "                443,     628,     833,\n",
       "            ...\n",
       "            8144778, 8144868, 8206708, 8289196, 8324578, 8335880, 8342748,\n",
       "            8342946, 8402090, 8439854],\n",
       "           dtype='int64', name='movie_id', length=31245)"
      ]
     },
     "execution_count": 60,
     "metadata": {},
     "output_type": "execute_result"
    }
   ],
   "source": [
    "user_by_movie.columns"
   ]
  },
  {
   "cell_type": "code",
   "execution_count": 61,
   "metadata": {
    "ExecuteTime": {
     "end_time": "2020-09-22T22:10:47.388877Z",
     "start_time": "2020-09-22T22:10:47.384038Z"
    }
   },
   "outputs": [],
   "source": [
    "def compute_correlation(user1,user2):\n",
    "    '''\n",
    "    INPUT\n",
    "    user1 - int user_id\n",
    "    user2 - int user_id\n",
    "    OUTPUT\n",
    "    the correlation between the matching ratings between the two users\n",
    "    '''\n",
    "    movie_u1,movie_u2= movies_to_analyze(user1),movies_to_analyze(user2)\n",
    "\n",
    "    # Similar movies\n",
    "    similar_movies=np.intersect1d(movie_u1,movie_u2,assume_unique=True)\n",
    "    \n",
    "    \n",
    "    df= user_by_movie.loc[(user1,user2),similar_movies]\n",
    "    corr_matrix = df.transpose().corr()\n",
    "    corr= coor_matrix.iloc[0,1]\n",
    "    return corr\n",
    "    \n",
    "    \n",
    "    "
   ]
  },
  {
   "cell_type": "code",
   "execution_count": 73,
   "metadata": {
    "ExecuteTime": {
     "end_time": "2020-09-22T22:22:57.601519Z",
     "start_time": "2020-09-22T22:20:34.856474Z"
    }
   },
   "outputs": [
    {
     "data": {
      "text/html": [
       "<div>\n",
       "<style scoped>\n",
       "    .dataframe tbody tr th:only-of-type {\n",
       "        vertical-align: middle;\n",
       "    }\n",
       "\n",
       "    .dataframe tbody tr th {\n",
       "        vertical-align: top;\n",
       "    }\n",
       "\n",
       "    .dataframe thead th {\n",
       "        text-align: right;\n",
       "    }\n",
       "</style>\n",
       "<table border=\"1\" class=\"dataframe\">\n",
       "  <thead>\n",
       "    <tr style=\"text-align: right;\">\n",
       "      <th></th>\n",
       "      <th>user1</th>\n",
       "      <th>user2</th>\n",
       "      <th>movie_corr</th>\n",
       "    </tr>\n",
       "  </thead>\n",
       "  <tbody>\n",
       "    <tr>\n",
       "      <td>0</td>\n",
       "      <td>2</td>\n",
       "      <td>2</td>\n",
       "      <td>1.000000</td>\n",
       "    </tr>\n",
       "    <tr>\n",
       "      <td>1</td>\n",
       "      <td>2</td>\n",
       "      <td>66</td>\n",
       "      <td>0.755929</td>\n",
       "    </tr>\n",
       "    <tr>\n",
       "      <td>2</td>\n",
       "      <td>2</td>\n",
       "      <td>90</td>\n",
       "      <td>-0.314270</td>\n",
       "    </tr>\n",
       "    <tr>\n",
       "      <td>3</td>\n",
       "      <td>2</td>\n",
       "      <td>99</td>\n",
       "      <td>0.484200</td>\n",
       "    </tr>\n",
       "    <tr>\n",
       "      <td>4</td>\n",
       "      <td>2</td>\n",
       "      <td>104</td>\n",
       "      <td>NaN</td>\n",
       "    </tr>\n",
       "  </tbody>\n",
       "</table>\n",
       "</div>"
      ],
      "text/plain": [
       "   user1  user2  movie_corr\n",
       "0      2      2    1.000000\n",
       "1      2     66    0.755929\n",
       "2      2     90   -0.314270\n",
       "3      2     99    0.484200\n",
       "4      2    104         NaN"
      ]
     },
     "execution_count": 73,
     "metadata": {},
     "output_type": "execute_result"
    }
   ],
   "source": [
    "\n",
    "import pickle\n",
    "corrs_import = pickle.load(open(\"data/corrs.p\", \"rb\"))\n",
    "df_corrs = pd.DataFrame(corrs_import)\n",
    "df_corrs.columns = ['user1', 'user2', 'movie_corr']\n",
    "\n",
    "df_corrs.head()"
   ]
  },
  {
   "cell_type": "markdown",
   "metadata": {},
   "source": [
    "### Why the NaN's?\n",
    "\n",
    "If the function you wrote passed all of the tests, then you have correctly set up your function to calculate the correlation between any two users.  The **df_corrs** dataframe created in the cell leading up to the tests holds combinations of users along with their corresponding correlation.  \n",
    "\n",
    "`5.` But one question is why are we still obtaining **NaN** values.  Look at the header below for users 2 and 104, they have a correlation of **NaN**, why?"
   ]
  },
  {
   "cell_type": "markdown",
   "metadata": {},
   "source": [
    "\n",
    "```\n",
    "In the denominator of the correlation coefficient, we calculate the standard deviation for each user's ratings.  The ratings for user 2 are all the same rating on the movies that match with user 104.  Therefore, the standard deviation is 0.  Because a 0 is in the denominator of the correlation coefficient, we end up with a **NaN** correlation coefficient.  Therefore, a different better is likely better for this particular situation.\n",
    "```"
   ]
  },
  {
   "cell_type": "code",
   "execution_count": 63,
   "metadata": {
    "ExecuteTime": {
     "end_time": "2020-09-22T22:13:27.416484Z",
     "start_time": "2020-09-22T22:13:27.408795Z"
    }
   },
   "outputs": [
    {
     "data": {
      "text/plain": [
       "{454876, 816711, 1454468, 1535109}"
      ]
     },
     "execution_count": 63,
     "metadata": {},
     "output_type": "execute_result"
    }
   ],
   "source": [
    "# Which movies did both user 2 and user 4 see?\n",
    "set_2 = set(movies_to_analyze[2])\n",
    "set_104 = set(movies_to_analyze[104])\n",
    "set_2.intersection(set_104)"
   ]
  },
  {
   "cell_type": "code",
   "execution_count": 64,
   "metadata": {
    "ExecuteTime": {
     "end_time": "2020-09-22T22:13:38.025692Z",
     "start_time": "2020-09-22T22:13:38.008637Z"
    }
   },
   "outputs": [
    {
     "name": "stdout",
     "output_type": "stream",
     "text": [
      "movie_id\n",
      "454876     8.0\n",
      "1454468    8.0\n",
      "1535109    8.0\n",
      "816711     8.0\n",
      "Name: 2, dtype: float64\n",
      "movie_id\n",
      "454876     9.0\n",
      "1454468    7.0\n",
      "1535109    9.0\n",
      "816711     7.0\n",
      "Name: 104, dtype: float64\n"
     ]
    }
   ],
   "source": [
    "# What were the ratings for each user on those movies?\n",
    "print(user_by_movie.loc[2, set_2.intersection(set_104)])\n",
    "print(user_by_movie.loc[104, set_2.intersection(set_104)])"
   ]
  },
  {
   "cell_type": "markdown",
   "metadata": {},
   "source": [
    "`6.` Because the correlation coefficient proved to be less than optimal for relating user ratings to one another, we could instead calculate the euclidean distance between the ratings.  I found [this post](https://stackoverflow.com/questions/1401712/how-can-the-euclidean-distance-be-calculated-with-numpy) particularly helpful when I was setting up my function.  This function should be very similar to your previous function.  When you feel confident with your function, test it against our results."
   ]
  },
  {
   "cell_type": "code",
   "execution_count": 74,
   "metadata": {
    "ExecuteTime": {
     "end_time": "2020-09-22T22:23:55.983266Z",
     "start_time": "2020-09-22T22:23:55.966151Z"
    }
   },
   "outputs": [],
   "source": [
    "def compute_euclidean_dist(user1, user2):\n",
    "    '''\n",
    "    INPUT\n",
    "    user1 - int user_id\n",
    "    user2 - int user_id\n",
    "    OUTPUT\n",
    "    the euclidean distance between user1 and user2\n",
    "    '''\n",
    "    # Pull movies for each user\n",
    "    movies1 = movies_to_analyze[user1]\n",
    "    movies2 = movies_to_analyze[user2]\n",
    "    \n",
    "    \n",
    "    # Find Similar Movies\n",
    "    sim_movs = np.intersect1d(movies1, movies2, assume_unique=True)\n",
    "    \n",
    "    # Calculate euclidean distance between the users\n",
    "    df = user_by_movie.loc[(user1, user2), sim_movs]\n",
    "    dist = np.linalg.norm(df.loc[user1] - df.loc[user2])\n",
    "    \n",
    "    return dist #return the euclidean distance"
   ]
  },
  {
   "cell_type": "code",
   "execution_count": 89,
   "metadata": {
    "ExecuteTime": {
     "end_time": "2020-09-22T22:43:40.415520Z",
     "start_time": "2020-09-22T22:41:02.749630Z"
    }
   },
   "outputs": [
    {
     "name": "stdout",
     "output_type": "stream",
     "text": [
      "Collecting package metadata (current_repodata.json): done\n",
      "Solving environment: done\n",
      "\n",
      "## Package Plan ##\n",
      "\n",
      "  environment location: /opt/anaconda3\n",
      "\n",
      "  added / updated specs:\n",
      "    - pandas\n",
      "\n",
      "\n",
      "The following packages will be downloaded:\n",
      "\n",
      "    package                    |            build\n",
      "    ---------------------------|-----------------\n",
      "    _py-xgboost-mutex-2.0      |            cpu_0           8 KB  defaults\n",
      "    anaconda-project-0.8.4     |             py_0         210 KB  defaults\n",
      "    appscript-1.1.1            |   py37haf1e3a3_0         130 KB  defaults\n",
      "    argon2-cffi-20.1.0         |   py37haf1e3a3_1          44 KB  defaults\n",
      "    asn1crypto-1.4.0           |             py_0          80 KB  defaults\n",
      "    astroid-2.4.2              |           py37_0         279 KB  defaults\n",
      "    astropy-4.0.1.post1        |   py37h01d97ff_1         6.0 MB  defaults\n",
      "    atomicwrites-1.4.0         |             py_0          11 KB  defaults\n",
      "    attrs-20.2.0               |             py_0          42 KB  defaults\n",
      "    automat-20.2.0             |             py_0          31 KB  defaults\n",
      "    babel-2.8.0                |             py_0         5.3 MB  defaults\n",
      "    backcall-0.2.0             |             py_0          15 KB  defaults\n",
      "    backports.functools_lru_cache-1.6.1|             py_0          11 KB  defaults\n",
      "    bcrypt-3.2.0               |   py37haf1e3a3_0          42 KB  defaults\n",
      "    beautifulsoup4-4.9.1       |           py37_0         172 KB  defaults\n",
      "    bitarray-1.5.3             |   py37haf1e3a3_0          90 KB  defaults\n",
      "    bleach-3.2.1               |             py_0         112 KB  defaults\n",
      "    blosc-1.20.0               |       hab81aa3_0          56 KB  defaults\n",
      "    bokeh-2.2.1                |           py37_0         5.4 MB  defaults\n",
      "    bottleneck-1.3.2           |   py37hf1fa96c_1         107 KB  defaults\n",
      "    brotlipy-0.7.0             |py37haf1e3a3_1000         329 KB  defaults\n",
      "    ca-certificates-2020.7.22  |                0         124 KB  defaults\n",
      "    cffi-1.14.0                |   py37hb5b8e2f_0         216 KB  defaults\n",
      "    click-7.1.2                |             py_0          71 KB  defaults\n",
      "    cloudpickle-1.6.0          |             py_0          30 KB  defaults\n",
      "    colorama-0.4.3             |             py_0          20 KB  defaults\n",
      "    conda-4.8.5                |           py37_0         2.9 MB  defaults\n",
      "    conda-package-handling-1.6.1|   py37h1de35cc_0         1.3 MB  defaults\n",
      "    constantly-15.1.0          |   py37h28b3542_0          14 KB  defaults\n",
      "    contextlib2-0.6.0.post1    |             py_0          16 KB  defaults\n",
      "    cryptography-3.1           |   py37hddc9c9b_0         549 KB  defaults\n",
      "    cssselect-1.1.0            |             py_0          19 KB  defaults\n",
      "    cython-0.29.21             |   py37hb1e8313_0         1.8 MB  defaults\n",
      "    cytoolz-0.10.1             |   py37h1de35cc_0         307 KB  defaults\n",
      "    dask-2.27.0                |             py_0           5 KB  defaults\n",
      "    dask-core-2.27.0           |             py_0         602 KB  defaults\n",
      "    decorator-4.4.2            |             py_0          14 KB  defaults\n",
      "    distributed-2.27.0         |           py37_0        1006 KB  defaults\n",
      "    docutils-0.16              |           py37_1         667 KB  defaults\n",
      "    et_xmlfile-1.0.1           |          py_1001          12 KB  defaults\n",
      "    expat-2.2.9                |       hb1e8313_2         112 KB  defaults\n",
      "    flask-1.1.2                |             py_0          78 KB  defaults\n",
      "    freetype-2.10.2            |       ha233b18_0         570 KB  defaults\n",
      "    fribidi-1.0.10             |       haf1e3a3_0          63 KB  defaults\n",
      "    fsspec-0.8.0               |             py_0          70 KB  defaults\n",
      "    future-0.18.2              |           py37_1         630 KB  defaults\n",
      "    geos-3.8.0                 |       hb1e8313_0         815 KB  defaults\n",
      "    gevent-20.6.2              |   py37haf1e3a3_0         1.4 MB  defaults\n",
      "    graphite2-1.3.14           |       h38d11af_0          80 KB  defaults\n",
      "    greenlet-0.4.16            |   py37haf1e3a3_0          22 KB  defaults\n",
      "    h5py-2.10.0                |   py37h3134771_0         810 KB  defaults\n",
      "    html5lib-1.1               |             py_0          93 KB  defaults\n",
      "    hyperlink-20.0.1           |             py_0          44 KB  defaults\n",
      "    hypothesis-5.35.4          |             py_0         227 KB  defaults\n",
      "    icu-58.2                   |       h0a44026_3        10.1 MB  defaults\n",
      "    idna-2.10                  |             py_0          50 KB  defaults\n",
      "    imageio-2.9.0              |             py_0         3.0 MB  defaults\n",
      "    imagesize-1.2.0            |             py_0          10 KB  defaults\n",
      "    importlib-metadata-1.7.0   |           py37_0          52 KB  defaults\n",
      "    importlib_metadata-1.7.0   |                0          11 KB  defaults\n",
      "    incremental-17.5.0         |           py37_0          25 KB  defaults\n",
      "    iniconfig-1.0.1            |             py_0           8 KB  defaults\n",
      "    ipykernel-5.3.4            |   py37h5ca1d4c_0         182 KB  defaults\n",
      "    ipython-7.18.1             |   py37h5ca1d4c_0         989 KB  defaults\n",
      "    isort-5.5.3                |           py37_0         145 KB  defaults\n",
      "    jinja2-2.11.2              |             py_0         103 KB  defaults\n",
      "    joblib-0.16.0              |             py_0         210 KB  defaults\n",
      "    json5-0.9.5                |             py_0          22 KB  defaults\n",
      "    jsonschema-3.2.0           |           py37_0          95 KB  defaults\n",
      "    jupyter_client-6.1.6       |             py_0          84 KB  defaults\n",
      "    jupyter_console-6.2.0      |             py_0          26 KB  defaults\n",
      "    jupyter_core-4.6.3         |           py37_0          70 KB  defaults\n",
      "    jupyterlab-2.2.6           |             py_0         3.4 MB  defaults\n",
      "    jupyterlab_server-1.2.0    |             py_0          25 KB  defaults\n",
      "    keyring-21.4.0             |           py37_0          59 KB  defaults\n",
      "    kiwisolver-1.2.0           |   py37h04f5b5a_0          55 KB  defaults\n",
      "    krb5-1.16.4                |       hddcf347_0        1021 KB  defaults\n",
      "    lazy-object-proxy-1.4.3    |   py37h1de35cc_0          28 KB  defaults\n",
      "    lcms2-2.11                 |       h92f6f08_0         278 KB  defaults\n",
      "    libarchive-3.4.2           |       haa3ed63_0         711 KB  defaults\n",
      "    libcxx-10.0.0              |                1         760 KB  defaults\n",
      "    libedit-3.1.20191231       |       h1de35cc_1          96 KB  defaults\n",
      "    libffi-3.2.1               |       h0a44026_6          39 KB  defaults\n",
      "    libiconv-1.16              |       h1de35cc_0         693 KB  defaults\n",
      "    liblief-0.10.1             |       h0a44026_0         1.5 MB  defaults\n",
      "    libllvm10-10.0.1           |       h76017ad_5        16.4 MB  defaults\n",
      "    libsodium-1.0.18           |       h1de35cc_0         236 KB  defaults\n",
      "    libssh2-1.9.0              |       ha12b0ac_1         250 KB  defaults\n",
      "    libtiff-4.1.0              |       hcb84e12_1         405 KB  defaults\n",
      "    libxgboost-0.90            |       h0a44026_1         1.2 MB  defaults\n",
      "    libxml2-2.9.10             |       h3b9e6c8_1         1.1 MB  defaults\n",
      "    libxslt-1.1.34             |       h83b36ba_0         395 KB  defaults\n",
      "    llvm-openmp-10.0.0         |       h28b9765_0         236 KB  defaults\n",
      "    llvmlite-0.34.0            |   py37h739e7dc_4         248 KB  defaults\n",
      "    lxml-4.5.2                 |   py37h63b7cb6_0         1.1 MB  defaults\n",
      "    lz4-c-1.9.2                |       hb1e8313_1         142 KB  defaults\n",
      "    lzo-2.10                   |       haf1e3a3_2         141 KB  defaults\n",
      "    matplotlib-3.3.1           |                0          24 KB  defaults\n",
      "    matplotlib-base-3.3.1      |   py37h181983e_0         5.1 MB  defaults\n",
      "    mkl_fft-1.2.0              |   py37hc64f4ea_0         141 KB  defaults\n",
      "    mkl_random-1.1.1           |   py37h959d312_0         284 KB  defaults\n",
      "    mock-4.0.2                 |             py_0          32 KB  defaults\n",
      "    more-itertools-8.5.0       |             py_0          43 KB  defaults\n",
      "    mpfr-4.0.2                 |       h9066e36_1         433 KB  defaults\n",
      "    msgpack-python-1.0.0       |   py37h04f5b5a_1          80 KB  defaults\n",
      "    nbconvert-5.6.1            |           py37_0         458 KB  defaults\n",
      "    nbformat-5.0.7             |             py_0          89 KB  defaults\n",
      "    ncurses-6.2                |       h0a44026_1         749 KB  defaults\n",
      "    networkx-2.5               |             py_0         1.1 MB  defaults\n",
      "    nltk-3.5                   |             py_0         976 KB  defaults\n",
      "    notebook-6.1.1             |           py37_0         4.0 MB  defaults\n",
      "    numba-0.51.2               |   py37h959d312_1         3.1 MB  defaults\n",
      "    numexpr-2.7.1              |   py37hce01a72_0         121 KB  defaults\n",
      "    numpy-1.19.1               |   py37h3b9f5b6_0          21 KB  defaults\n",
      "    numpy-base-1.19.1          |   py37hcfb5961_0         4.0 MB  defaults\n",
      "    numpydoc-1.1.0             |             py_0          42 KB  defaults\n",
      "    openpyxl-3.0.5             |             py_0         158 KB  defaults\n",
      "    openssl-1.1.1h             |       haf1e3a3_0         2.2 MB  defaults\n",
      "    packaging-20.4             |             py_0          36 KB  defaults\n",
      "    pandas-1.1.1               |   py37hb1e8313_0         7.8 MB  defaults\n",
      "    pandoc-2.10.1              |                0        13.8 MB  defaults\n",
      "    parso-0.8.0                |             py_0          72 KB  defaults\n",
      "    partd-1.1.0                |             py_0          20 KB  defaults\n",
      "    path-15.0.0                |           py37_0          38 KB  defaults\n",
      "    path.py-12.5.0             |                0           4 KB  defaults\n",
      "    pcre-8.44                  |       hb1e8313_0         185 KB  defaults\n",
      "    pexpect-4.8.0              |           py37_0          81 KB  defaults\n",
      "    pillow-7.2.0               |   py37ha54b6ba_0         581 KB  defaults\n",
      "    pip-20.2.2                 |           py37_0         1.7 MB  defaults\n",
      "    pixman-0.40.0              |       haf1e3a3_0         340 KB  defaults\n",
      "    pluggy-0.13.1              |           py37_0          33 KB  defaults\n",
      "    prometheus_client-0.8.0    |             py_0          47 KB  defaults\n",
      "    prompt-toolkit-3.0.7       |             py_0         248 KB  defaults\n",
      "    prompt_toolkit-3.0.7       |                0          12 KB  defaults\n",
      "    psutil-5.7.2               |   py37haf1e3a3_0         337 KB  defaults\n",
      "    py-1.9.0                   |             py_0          79 KB  defaults\n",
      "    py-lief-0.10.1             |   py37haf313ee_0        1022 KB  defaults\n",
      "    pyasn1-0.4.8               |             py_0          57 KB  defaults\n",
      "    pyasn1-modules-0.2.8       |             py_0          72 KB  defaults\n",
      "    pycodestyle-2.6.0          |             py_0          43 KB  defaults\n",
      "    pycparser-2.20             |             py_2          94 KB  defaults\n",
      "    pycrypto-2.6.1             |  py37haf1e3a3_10         365 KB  defaults\n",
      "    pydispatcher-2.0.5         |           py37_1          19 KB  defaults\n",
      "    pyflakes-2.2.0             |             py_0          61 KB  defaults\n",
      "    pygments-2.7.1             |             py_0         671 KB  defaults\n",
      "    pyhamcrest-2.0.2           |             py_0          30 KB  defaults\n",
      "    pylint-2.6.0               |           py37_0         436 KB  defaults\n",
      "    pyodbc-4.0.30              |   py37h0a44026_0          64 KB  defaults\n",
      "    pyopenssl-19.1.0           |             py_1          48 KB  defaults\n",
      "    pyparsing-2.4.7            |             py_0          65 KB  defaults\n",
      "    pyrsistent-0.17.3          |   py37haf1e3a3_0          87 KB  defaults\n",
      "    pytables-3.6.1             |   py37h5bccee9_0         1.1 MB  defaults\n",
      "    pytest-6.0.2               |           py37_0         411 KB  defaults\n",
      "    pytest-astropy-0.8.0       |             py_0           9 KB  defaults\n",
      "    pytest-astropy-header-0.1.2|             py_0          12 KB  defaults\n",
      "    pytest-doctestplus-0.8.0   |             py_0          22 KB  defaults\n",
      "    pytest-openfiles-0.5.0     |             py_0          11 KB  defaults\n",
      "    pytest-runner-5.2          |             py_0          13 KB  defaults\n",
      "    python-dateutil-2.8.1      |             py_0         215 KB  defaults\n",
      "    python-libarchive-c-2.9    |             py_0          46 KB  defaults\n",
      "    pytz-2020.1                |             py_0         184 KB  defaults\n",
      "    pywavelets-1.1.1           |   py37h1de35cc_0         3.4 MB  defaults\n",
      "    pyyaml-5.3.1               |   py37haf1e3a3_1         165 KB  defaults\n",
      "    pyzmq-19.0.2               |   py37hb1e8313_1         397 KB  defaults\n",
      "    qtawesome-0.7.2            |             py_0         724 KB  defaults\n",
      "    qtconsole-4.7.6            |             py_0          96 KB  defaults\n",
      "    regex-2020.7.14            |   py37haf1e3a3_0         315 KB  defaults\n",
      "    requests-2.24.0            |             py_0          56 KB  defaults\n",
      "    ripgrep-11.0.2             |       he32d670_0         1.1 MB  defaults\n",
      "    rope-0.17.0                |             py_0         127 KB  defaults\n",
      "    ruamel_yaml-0.15.87        |   py37haf1e3a3_1         235 KB  defaults\n",
      "    scikit-image-0.16.2        |   py37h6c726b0_0        22.5 MB  defaults\n",
      "    scikit-learn-0.23.2        |   py37h959d312_0         4.7 MB  defaults\n",
      "    scipy-1.5.2                |   py37h912ce22_0        13.2 MB  defaults\n",
      "    seaborn-0.11.0             |             py_0         210 KB  defaults\n",
      "    service_identity-18.1.0    |   py37h28b3542_0          20 KB  defaults\n",
      "    setuptools-49.6.0          |           py37_0         744 KB  defaults\n",
      "    six-1.15.0                 |             py_0          13 KB  defaults\n",
      "    snappy-1.1.8               |       hb1e8313_0          54 KB  defaults\n",
      "    sortedcollections-1.2.1    |             py_0          13 KB  defaults\n",
      "    sortedcontainers-2.2.2     |             py_0          29 KB  defaults\n",
      "    soupsieve-2.0.1            |             py_0          33 KB  defaults\n",
      "    sphinx-3.2.1               |             py_0         1.1 MB  defaults\n",
      "    sphinxcontrib-applehelp-1.0.2|             py_0          27 KB  defaults\n",
      "    sphinxcontrib-devhelp-1.0.2|             py_0          22 KB  defaults\n",
      "    sphinxcontrib-htmlhelp-1.0.3|             py_0          27 KB  defaults\n",
      "    sphinxcontrib-qthelp-1.0.3 |             py_0          25 KB  defaults\n",
      "    sphinxcontrib-serializinghtml-1.1.4|             py_0          24 KB  defaults\n",
      "    sphinxcontrib-websupport-1.2.4|             py_0          34 KB  defaults\n",
      "    sqlalchemy-1.3.19          |   py37haf1e3a3_0         1.5 MB  defaults\n",
      "    sqlite-3.33.0              |       hffcf06c_0         1.3 MB  defaults\n",
      "    statsmodels-0.11.1         |   py37haf1e3a3_0         7.4 MB  defaults\n",
      "    sympy-1.6.2                |           py37_0         8.6 MB  defaults\n",
      "    tblib-1.7.0                |             py_0          16 KB  defaults\n",
      "    terminado-0.8.3            |           py37_0          25 KB  defaults\n",
      "    testpath-0.4.4             |             py_0          82 KB  defaults\n",
      "    threadpoolctl-2.1.0        |     pyh5ca1d4c_0          17 KB  defaults\n",
      "    tk-8.6.10                  |       hb0a8c7a_0         3.0 MB  defaults\n",
      "    toml-0.10.1                |             py_0          20 KB  defaults\n",
      "    tornado-6.0.4              |   py37h1de35cc_1         597 KB  defaults\n",
      "    tqdm-4.49.0                |             py_0          55 KB  defaults\n",
      "    twisted-20.3.0             |   py37h1de35cc_0         4.0 MB  defaults\n",
      "    typed-ast-1.4.1            |   py37h1de35cc_0         184 KB  defaults\n",
      "    typing_extensions-3.7.4.3  |             py_0          28 KB  defaults\n",
      "    urllib3-1.25.10            |             py_0          98 KB  defaults\n",
      "    w3lib-1.21.0               |             py_0         182 KB  defaults\n",
      "    wcwidth-0.2.5              |             py_0          29 KB  defaults\n",
      "    werkzeug-1.0.1             |             py_0         240 KB  defaults\n",
      "    wheel-0.35.1               |             py_0          37 KB  defaults\n",
      "    wurlitzer-2.0.1            |           py37_0          14 KB  defaults\n",
      "    xlsxwriter-1.3.4           |             py_0         108 KB  defaults\n",
      "    xlwings-0.20.7             |           py37_0         427 KB  defaults\n",
      "    xz-5.2.5                   |       h1de35cc_0         240 KB  defaults\n",
      "    yaml-0.2.5                 |       haf1e3a3_0          72 KB  defaults\n",
      "    zeromq-4.3.2               |       hb1e8313_3         421 KB  defaults\n",
      "    zict-2.0.0                 |             py_0          13 KB  defaults\n",
      "    zipp-3.1.0                 |             py_0          13 KB  defaults\n",
      "    zope-1.0                   |           py37_1           4 KB  defaults\n",
      "    zope.event-4.4             |           py37_0           9 KB  defaults\n",
      "    zope.interface-5.1.0       |   py37haf1e3a3_0         276 KB  defaults\n",
      "    zstd-1.4.5                 |       h41d2c2f_0         442 KB  defaults\n",
      "    ------------------------------------------------------------\n",
      "                                           Total:       210.8 MB\n",
      "\n",
      "The following NEW packages will be INSTALLED:\n",
      "\n",
      "  argon2-cffi        pkgs/main/osx-64::argon2-cffi-20.1.0-py37haf1e3a3_1\n",
      "  brotlipy           pkgs/main/osx-64::brotlipy-0.7.0-py37haf1e3a3_1000\n",
      "  hypothesis         pkgs/main/noarch::hypothesis-5.35.4-py_0\n",
      "  importlib-metadata pkgs/main/osx-64::importlib-metadata-1.7.0-py37_0\n",
      "  iniconfig          pkgs/main/noarch::iniconfig-1.0.1-py_0\n",
      "  lcms2              pkgs/main/osx-64::lcms2-2.11-h92f6f08_0\n",
      "  libllvm10          pkgs/main/osx-64::libllvm10-10.0.1-h76017ad_5\n",
      "  matplotlib-base    pkgs/main/osx-64::matplotlib-base-3.3.1-py37h181983e_0\n",
      "  path               pkgs/main/osx-64::path-15.0.0-py37_0\n",
      "  prompt-toolkit     pkgs/main/noarch::prompt-toolkit-3.0.7-py_0\n",
      "  pytest-astropy-he~ pkgs/main/noarch::pytest-astropy-header-0.1.2-py_0\n",
      "  regex              pkgs/main/osx-64::regex-2020.7.14-py37haf1e3a3_0\n",
      "  threadpoolctl      pkgs/main/noarch::threadpoolctl-2.1.0-pyh5ca1d4c_0\n",
      "  toml               pkgs/main/noarch::toml-0.10.1-py_0\n",
      "  typed-ast          pkgs/main/osx-64::typed-ast-1.4.1-py37h1de35cc_0\n",
      "  typing_extensions  pkgs/main/noarch::typing_extensions-3.7.4.3-py_0\n",
      "  zope               pkgs/main/osx-64::zope-1.0-py37_1\n",
      "  zope.event         pkgs/main/osx-64::zope.event-4.4-py37_0\n",
      "\n",
      "The following packages will be REMOVED:\n",
      "\n",
      "  tbb-2019.8-h04f5b5a_0\n",
      "\n",
      "The following packages will be UPDATED:\n",
      "\n",
      "  anaconda-project                               0.8.3-py_0 --> 0.8.4-py_0\n",
      "  appscript                            1.1.0-py37h1de35cc_0 --> 1.1.1-py37haf1e3a3_0\n",
      "  asn1crypto         pkgs/main/osx-64::asn1crypto-1.0.1-py~ --> pkgs/main/noarch::asn1crypto-1.4.0-py_0\n",
      "  astroid                                      2.3.1-py37_0 --> 2.4.2-py37_0\n",
      "  astropy                              3.2.2-py37h1de35cc_0 --> 4.0.1.post1-py37h01d97ff_1\n",
      "  atomicwrites       pkgs/main/osx-64::atomicwrites-1.3.0-~ --> pkgs/main/noarch::atomicwrites-1.4.0-py_0\n",
      "  attrs                                         19.2.0-py_0 --> 20.2.0-py_0\n",
      "  babel                                          2.7.0-py_0 --> 2.8.0-py_0\n",
      "  backcall           pkgs/main/osx-64::backcall-0.1.0-py37~ --> pkgs/main/noarch::backcall-0.2.0-py_0\n",
      "  backports.functoo~                               1.5-py_2 --> 1.6.1-py_0\n",
      "  bcrypt             conda-forge::bcrypt-3.1.7-py37h0b31af~ --> pkgs/main::bcrypt-3.2.0-py37haf1e3a3_0\n",
      "  beautifulsoup4                               4.8.0-py37_0 --> 4.9.1-py37_0\n",
      "  bitarray                             1.0.1-py37h1de35cc_0 --> 1.5.3-py37haf1e3a3_0\n",
      "  bleach              pkgs/main/osx-64::bleach-3.1.0-py37_0 --> pkgs/main/noarch::bleach-3.2.1-py_0\n",
      "  blosc                                   1.16.3-hd9629dc_0 --> 1.20.0-hab81aa3_0\n",
      "  bokeh                                        1.3.4-py37_0 --> 2.2.1-py37_0\n",
      "  bottleneck                           1.2.1-py37h1d22016_1 --> 1.3.2-py37hf1fa96c_1\n",
      "  ca-certificates                                2020.1.1-0 --> 2020.7.22-0\n",
      "  cffi                                1.12.3-py37hb5b8e2f_0 --> 1.14.0-py37hb5b8e2f_0\n",
      "  click                  pkgs/main/osx-64::click-7.0-py37_0 --> pkgs/main/noarch::click-7.1.2-py_0\n",
      "  cloudpickle                                    1.2.2-py_0 --> 1.6.0-py_0\n",
      "  colorama           pkgs/main/osx-64::colorama-0.4.1-py37~ --> pkgs/main/noarch::colorama-0.4.3-py_0\n",
      "  conda                                        4.8.3-py37_0 --> 4.8.5-py37_0\n",
      "  conda-package-han~                   1.6.0-py37h1de35cc_0 --> 1.6.1-py37h1de35cc_0\n",
      "  contextlib2                                    0.6.0-py_0 --> 0.6.0.post1-py_0\n",
      "  cryptography                           2.7-py37ha12b0ac_0 --> 3.1-py37hddc9c9b_0\n",
      "  cython                             0.29.13-py37h0a44026_0 --> 0.29.21-py37hb1e8313_0\n",
      "  cytoolz                             0.10.0-py37h1de35cc_0 --> 0.10.1-py37h1de35cc_0\n",
      "  dask                                           2.5.2-py_0 --> 2.27.0-py_0\n",
      "  dask-core                                      2.5.2-py_0 --> 2.27.0-py_0\n",
      "  decorator          pkgs/main/osx-64::decorator-4.4.0-py3~ --> pkgs/main/noarch::decorator-4.4.2-py_0\n",
      "  distributed        pkgs/main/noarch::distributed-2.5.2-p~ --> pkgs/main/osx-64::distributed-2.27.0-py37_0\n",
      "  docutils                                    0.15.2-py37_0 --> 0.16-py37_1\n",
      "  et_xmlfile         pkgs/main/osx-64::et_xmlfile-1.0.1-py~ --> pkgs/main/noarch::et_xmlfile-1.0.1-py_1001\n",
      "  expat                                    2.2.6-h0a44026_0 --> 2.2.9-hb1e8313_2\n",
      "  flask                                          1.1.1-py_0 --> 1.1.2-py_0\n",
      "  freetype                                 2.9.1-hb4e5f40_0 --> 2.10.2-ha233b18_0\n",
      "  fribidi                                  1.0.5-h1de35cc_0 --> 1.0.10-haf1e3a3_0\n",
      "  fsspec                                         0.5.2-py_0 --> 0.8.0-py_0\n",
      "  future                                      0.17.1-py37_0 --> 0.18.2-py37_1\n",
      "  gevent                               1.4.0-py37h1de35cc_0 --> 20.6.2-py37haf1e3a3_0\n",
      "  graphite2                               1.3.13-h2098e52_0 --> 1.3.14-h38d11af_0\n",
      "  greenlet                            0.4.15-py37h1de35cc_0 --> 0.4.16-py37haf1e3a3_0\n",
      "  h5py                                 2.9.0-py37h3134771_0 --> 2.10.0-py37h3134771_0\n",
      "  html5lib           pkgs/main/osx-64::html5lib-1.0.1-py37~ --> pkgs/main/noarch::html5lib-1.1-py_0\n",
      "  hyperlink              conda-forge::hyperlink-17.3.1-py_0 --> pkgs/main::hyperlink-20.0.1-py_0\n",
      "  icu                                       58.2-h4b95b61_1 --> 58.2-h0a44026_3\n",
      "  idna                    pkgs/main/osx-64::idna-2.8-py37_0 --> pkgs/main/noarch::idna-2.10-py_0\n",
      "  imageio            pkgs/main/osx-64::imageio-2.6.0-py37_0 --> pkgs/main/noarch::imageio-2.9.0-py_0\n",
      "  imagesize          pkgs/main/osx-64::imagesize-1.1.0-py3~ --> pkgs/main/noarch::imagesize-1.2.0-py_0\n",
      "  importlib_metadata pkgs/main/osx-64::importlib_metadata-~ --> pkgs/main/noarch::importlib_metadata-1.7.0-0\n",
      "  ipykernel                            5.1.2-py37h39e3cac_0 --> 5.3.4-py37h5ca1d4c_0\n",
      "  ipython                              7.8.0-py37h39e3cac_0 --> 7.18.1-py37h5ca1d4c_0\n",
      "  isort                                       4.3.21-py37_0 --> 5.5.3-py37_0\n",
      "  jinja2                                        2.10.3-py_0 --> 2.11.2-py_0\n",
      "  joblib             pkgs/main/osx-64::joblib-0.13.2-py37_0 --> pkgs/main/noarch::joblib-0.16.0-py_0\n",
      "  json5                                          0.8.5-py_0 --> 0.9.5-py_0\n",
      "  jsonschema                                   3.0.2-py37_0 --> 3.2.0-py37_0\n",
      "  jupyter_client     pkgs/main/osx-64::jupyter_client-5.3.~ --> pkgs/main/noarch::jupyter_client-6.1.6-py_0\n",
      "  jupyter_console    pkgs/main/osx-64::jupyter_console-6.0~ --> pkgs/main/noarch::jupyter_console-6.2.0-py_0\n",
      "  jupyter_core       pkgs/main/noarch::jupyter_core-4.5.0-~ --> pkgs/main/osx-64::jupyter_core-4.6.3-py37_0\n",
      "  jupyterlab                             1.1.4-pyhf63ae98_0 --> 2.2.6-py_0\n",
      "  jupyterlab_server                              1.0.6-py_0 --> 1.2.0-py_0\n",
      "  keyring                                     18.0.0-py37_0 --> 21.4.0-py37_0\n",
      "  kiwisolver                           1.1.0-py37h0a44026_0 --> 1.2.0-py37h04f5b5a_0\n",
      "  krb5                                    1.16.1-hddcf347_7 --> 1.16.4-hddcf347_0\n",
      "  lazy-object-proxy                    1.4.2-py37h1de35cc_0 --> 1.4.3-py37h1de35cc_0\n",
      "  libarchive                               3.3.3-h786848e_5 --> 3.4.2-haa3ed63_0\n",
      "  libcxx                                   4.0.1-hcfea43d_1 --> 10.0.0-1\n",
      "  libedit                           3.1.20181209-hb402a30_0 --> 3.1.20191231-h1de35cc_1\n",
      "  libffi                                   3.2.1-h475c297_4 --> 3.2.1-h0a44026_6\n",
      "  libiconv                                  1.15-hdd342a3_7 --> 1.16-h1de35cc_0\n",
      "  liblief                                  0.9.0-h2a1bed3_2 --> 0.10.1-h0a44026_0\n",
      "  libsodium                               1.0.16-h3efe00b_0 --> 1.0.18-h1de35cc_0\n",
      "  libssh2                                  1.8.2-ha12b0ac_0 --> 1.9.0-ha12b0ac_1\n",
      "  libtiff                                 4.0.10-hcb84e12_2 --> 4.1.0-hcb84e12_1\n",
      "  libxml2                                  2.9.9-hf6e021a_1 --> 2.9.10-h3b9e6c8_1\n",
      "  libxslt                                 1.1.33-h33a18ac_0 --> 1.1.34-h83b36ba_0\n",
      "  llvm-openmp                              4.0.1-hcfea43d_1 --> 10.0.0-h28b9765_0\n",
      "  llvmlite                            0.29.0-py37h98b8051_0 --> 0.34.0-py37h739e7dc_4\n",
      "  lxml                                 4.4.1-py37hef8c89e_0 --> 4.5.2-py37h63b7cb6_0\n",
      "  lz4-c                                  1.8.1.2-h1de35cc_0 --> 1.9.2-hb1e8313_1\n",
      "  matplotlib                           3.1.1-py37h54f8f79_0 --> 3.3.1-0\n",
      "  mkl_fft                             1.0.14-py37h5e564d8_0 --> 1.2.0-py37hc64f4ea_0\n",
      "  mkl_random                           1.1.0-py37ha771720_0 --> 1.1.1-py37h959d312_0\n",
      "  mock                  pkgs/main/osx-64::mock-3.0.5-py37_0 --> pkgs/main/noarch::mock-4.0.2-py_0\n",
      "  more-itertools     pkgs/main/osx-64::more-itertools-7.2.~ --> pkgs/main/noarch::more-itertools-8.5.0-py_0\n",
      "  mpfr                                     4.0.1-h3018a27_3 --> 4.0.2-h9066e36_1\n",
      "  msgpack-python                       0.6.1-py37h04f5b5a_1 --> 1.0.0-py37h04f5b5a_1\n",
      "  nbconvert                                    5.6.0-py37_1 --> 5.6.1-py37_0\n",
      "  nbformat           pkgs/main/osx-64::nbformat-4.4.0-py37~ --> pkgs/main/noarch::nbformat-5.0.7-py_0\n",
      "  ncurses                                    6.1-h0a44026_1 --> 6.2-h0a44026_1\n",
      "  networkx                                         2.3-py_0 --> 2.5-py_0\n",
      "  nltk                  pkgs/main/osx-64::nltk-3.4.5-py37_0 --> pkgs/main/noarch::nltk-3.5-py_0\n",
      "  notebook                                     6.0.1-py37_0 --> 6.1.1-py37_0\n",
      "  numba                               0.45.1-py37h6440ff4_0 --> 0.51.2-py37h959d312_1\n",
      "  numexpr                              2.7.0-py37h7413580_0 --> 2.7.1-py37hce01a72_0\n",
      "  numpy                               1.17.2-py37h99e6662_0 --> 1.19.1-py37h3b9f5b6_0\n",
      "  numpy-base                          1.17.2-py37h6575580_0 --> 1.19.1-py37hcfb5961_0\n",
      "  numpydoc                                       0.9.1-py_0 --> 1.1.0-py_0\n",
      "  openpyxl                                       3.0.0-py_0 --> 3.0.5-py_0\n",
      "  openssl                                 1.1.1g-h1de35cc_0 --> 1.1.1h-haf1e3a3_0\n",
      "  packaging                                       19.2-py_0 --> 20.4-py_0\n",
      "  pandas                              0.25.1-py37h0a44026_0 --> 1.1.1-py37hb1e8313_0\n",
      "  pandoc                                          2.2.3.2-0 --> 2.10.1-0\n",
      "  parso                                          0.5.1-py_0 --> 0.8.0-py_0\n",
      "  partd                                          1.0.0-py_0 --> 1.1.0-py_0\n",
      "  path.py                                       12.0.1-py_0 --> 12.5.0-0\n",
      "  pcre                                      8.43-h0a44026_0 --> 8.44-hb1e8313_0\n",
      "  pexpect                                      4.7.0-py37_0 --> 4.8.0-py37_0\n",
      "  pillow                               6.2.0-py37hb68e598_0 --> 7.2.0-py37ha54b6ba_0\n",
      "  pip                                         19.2.3-py37_0 --> 20.2.2-py37_0\n",
      "  pixman                                  0.38.0-h1de35cc_0 --> 0.40.0-haf1e3a3_0\n",
      "  pluggy                                      0.13.0-py37_0 --> 0.13.1-py37_0\n",
      "  prometheus_client                              0.7.1-py_0 --> 0.8.0-py_0\n",
      "  prompt_toolkit                                2.0.10-py_0 --> 3.0.7-0\n",
      "  psutil                               5.6.3-py37h1de35cc_0 --> 5.7.2-py37haf1e3a3_0\n",
      "  py                      pkgs/main/osx-64::py-1.8.0-py37_0 --> pkgs/main/noarch::py-1.9.0-py_0\n",
      "  py-lief                              0.9.0-py37h1413db1_2 --> 0.10.1-py37haf313ee_0\n",
      "  pyasn1-modules     conda-forge::pyasn1-modules-0.2.7-py_0 --> pkgs/main::pyasn1-modules-0.2.8-py_0\n",
      "  pycodestyle        pkgs/main/osx-64::pycodestyle-2.5.0-p~ --> pkgs/main/noarch::pycodestyle-2.6.0-py_0\n",
      "  pycparser          pkgs/main/osx-64::pycparser-2.19-py37~ --> pkgs/main/noarch::pycparser-2.20-py_2\n",
      "  pycrypto                             2.6.1-py37h1de35cc_9 --> 2.6.1-py37haf1e3a3_10\n",
      "  pyflakes           pkgs/main/osx-64::pyflakes-2.1.1-py37~ --> pkgs/main/noarch::pyflakes-2.2.0-py_0\n",
      "  pygments                                       2.4.2-py_0 --> 2.7.1-py_0\n",
      "  pyhamcrest             conda-forge::pyhamcrest-2.0.0-py_0 --> pkgs/main::pyhamcrest-2.0.2-py_0\n",
      "  pylint                                       2.4.2-py37_0 --> 2.6.0-py37_0\n"
     ]
    },
    {
     "name": "stdout",
     "output_type": "stream",
     "text": [
      "  pyodbc                              4.0.27-py37h0a44026_0 --> 4.0.30-py37h0a44026_0\n",
      "  pyopenssl          pkgs/main/osx-64::pyopenssl-19.0.0-py~ --> pkgs/main/noarch::pyopenssl-19.1.0-py_1\n",
      "  pyparsing                                      2.4.2-py_0 --> 2.4.7-py_0\n",
      "  pyrsistent                          0.15.4-py37h1de35cc_0 --> 0.17.3-py37haf1e3a3_0\n",
      "  pytables                             3.5.2-py37h5bccee9_1 --> 3.6.1-py37h5bccee9_0\n",
      "  pytest                                       5.2.1-py37_0 --> 6.0.2-py37_0\n",
      "  pytest-astropy     pkgs/main/osx-64::pytest-astropy-0.5.~ --> pkgs/main/noarch::pytest-astropy-0.8.0-py_0\n",
      "  pytest-doctestplus                             0.4.0-py_0 --> 0.8.0-py_0\n",
      "  pytest-openfiles                               0.4.0-py_0 --> 0.5.0-py_0\n",
      "  python-dateutil    pkgs/main/osx-64::python-dateutil-2.8~ --> pkgs/main/noarch::python-dateutil-2.8.1-py_0\n",
      "  python-libarchive~ pkgs/main/osx-64::python-libarchive-c~ --> pkgs/main/noarch::python-libarchive-c-2.9-py_0\n",
      "  pytz                                          2019.3-py_0 --> 2020.1-py_0\n",
      "  pywavelets                           1.0.3-py37h1d22016_1 --> 1.1.1-py37h1de35cc_0\n",
      "  pyyaml                               5.1.2-py37h1de35cc_0 --> 5.3.1-py37haf1e3a3_1\n",
      "  pyzmq                               18.1.0-py37h0a44026_0 --> 19.0.2-py37hb1e8313_1\n",
      "  qtawesome                                      0.6.0-py_0 --> 0.7.2-py_0\n",
      "  qtconsole                                      4.5.5-py_0 --> 4.7.6-py_0\n",
      "  requests           pkgs/main/osx-64::requests-2.22.0-py3~ --> pkgs/main/noarch::requests-2.24.0-py_0\n",
      "  ripgrep                                 0.10.0-hc07d326_0 --> 11.0.2-he32d670_0\n",
      "  rope                                          0.14.0-py_0 --> 0.17.0-py_0\n",
      "  ruamel_yaml                        0.15.46-py37h1de35cc_0 --> 0.15.87-py37haf1e3a3_1\n",
      "  scikit-image                        0.15.0-py37h0a44026_0 --> 0.16.2-py37h6c726b0_0\n",
      "  scikit-learn                        0.21.3-py37h27c97d8_0 --> 0.23.2-py37h959d312_0\n",
      "  scipy                                1.3.1-py37h1410ff5_0 --> 1.5.2-py37h912ce22_0\n",
      "  seaborn            pkgs/main/osx-64::seaborn-0.9.0-py37_0 --> pkgs/main/noarch::seaborn-0.11.0-py_0\n",
      "  setuptools                                  41.4.0-py37_0 --> 49.6.0-py37_0\n",
      "  six                   pkgs/main/osx-64::six-1.12.0-py37_0 --> pkgs/main/noarch::six-1.15.0-py_0\n",
      "  snappy                                   1.1.7-he62c110_3 --> 1.1.8-hb1e8313_0\n",
      "  sortedcollections  pkgs/main/osx-64::sortedcollections-1~ --> pkgs/main/noarch::sortedcollections-1.2.1-py_0\n",
      "  sortedcontainers   pkgs/main/osx-64::sortedcontainers-2.~ --> pkgs/main/noarch::sortedcontainers-2.2.2-py_0\n",
      "  soupsieve          pkgs/main/osx-64::soupsieve-1.9.3-py3~ --> pkgs/main/noarch::soupsieve-2.0.1-py_0\n",
      "  sphinx                                         2.2.0-py_0 --> 3.2.1-py_0\n",
      "  sphinxcontrib-app~                             1.0.1-py_0 --> 1.0.2-py_0\n",
      "  sphinxcontrib-dev~                             1.0.1-py_0 --> 1.0.2-py_0\n",
      "  sphinxcontrib-htm~                             1.0.2-py_0 --> 1.0.3-py_0\n",
      "  sphinxcontrib-qth~                             1.0.2-py_0 --> 1.0.3-py_0\n",
      "  sphinxcontrib-ser~                             1.1.3-py_0 --> 1.1.4-py_0\n",
      "  sphinxcontrib-web~                             1.1.2-py_0 --> 1.2.4-py_0\n",
      "  sqlalchemy                           1.3.9-py37h1de35cc_0 --> 1.3.19-py37haf1e3a3_0\n",
      "  sqlite                                  3.30.0-ha441bb4_0 --> 3.33.0-hffcf06c_0\n",
      "  statsmodels                         0.10.1-py37h1d22016_0 --> 0.11.1-py37haf1e3a3_0\n",
      "  sympy                                          1.4-py37_0 --> 1.6.2-py37_0\n",
      "  tblib                                          1.4.0-py_0 --> 1.7.0-py_0\n",
      "  terminado                                    0.8.2-py37_0 --> 0.8.3-py37_0\n",
      "  testpath           pkgs/main/osx-64::testpath-0.4.2-py37~ --> pkgs/main/noarch::testpath-0.4.4-py_0\n",
      "  tk                                       8.6.8-ha441bb4_0 --> 8.6.10-hb0a8c7a_0\n",
      "  tornado                              6.0.3-py37h1de35cc_0 --> 6.0.4-py37h1de35cc_1\n",
      "  tqdm                                          4.36.1-py_0 --> 4.49.0-py_0\n",
      "  twisted            conda-forge::twisted-19.10.0-py37h0b3~ --> pkgs/main::twisted-20.3.0-py37h1de35cc_0\n",
      "  urllib3            pkgs/main/osx-64::urllib3-1.24.2-py37~ --> pkgs/main/noarch::urllib3-1.25.10-py_0\n",
      "  w3lib                      conda-forge::w3lib-1.20.0-py_0 --> pkgs/main::w3lib-1.21.0-py_0\n",
      "  wcwidth            pkgs/main/osx-64::wcwidth-0.1.7-py37_0 --> pkgs/main/noarch::wcwidth-0.2.5-py_0\n",
      "  werkzeug                                      0.16.0-py_0 --> 1.0.1-py_0\n",
      "  wheel               pkgs/main/osx-64::wheel-0.33.6-py37_0 --> pkgs/main/noarch::wheel-0.35.1-py_0\n",
      "  wurlitzer                                    1.0.3-py37_0 --> 2.0.1-py37_0\n",
      "  xlsxwriter                                     1.2.1-py_0 --> 1.3.4-py_0\n",
      "  xlwings                                    0.15.10-py37_0 --> 0.20.7-py37_0\n",
      "  xz                                       5.2.4-h1de35cc_4 --> 5.2.5-h1de35cc_0\n",
      "  yaml                                     0.1.7-hc338f04_2 --> 0.2.5-haf1e3a3_0\n",
      "  zeromq                                   4.3.1-h0a44026_3 --> 4.3.2-hb1e8313_3\n",
      "  zict                                           1.0.0-py_0 --> 2.0.0-py_0\n",
      "  zipp                                           0.6.0-py_0 --> 3.1.0-py_0\n",
      "  zope.interface     conda-forge::zope.interface-4.7.1-py3~ --> pkgs/main::zope.interface-5.1.0-py37haf1e3a3_0\n",
      "  zstd                                     1.3.7-h5bba6e5_0 --> 1.4.5-h41d2c2f_0\n",
      "\n",
      "The following packages will be SUPERSEDED by a higher-priority channel:\n",
      "\n",
      "  _py-xgboost-mutex                                anaconda --> pkgs/main\n",
      "  automat                                       conda-forge --> pkgs/main\n",
      "  constantly         conda-forge/noarch::constantly-15.1.0~ --> pkgs/main/osx-64::constantly-15.1.0-py37h28b3542_0\n",
      "  cssselect                                     conda-forge --> pkgs/main\n",
      "  incremental        conda-forge/noarch::incremental-17.5.~ --> pkgs/main/osx-64::incremental-17.5.0-py37_0\n",
      "  libxgboost                                       anaconda --> pkgs/main\n",
      "  pyasn1                                        conda-forge --> pkgs/main\n",
      "  pydispatcher       conda-forge/noarch::pydispatcher-2.0.~ --> pkgs/main/osx-64::pydispatcher-2.0.5-py37_1\n",
      "  pytest-runner                                 conda-forge --> pkgs/main\n",
      "  service_identity   conda-forge/noarch::service_identity-~ --> pkgs/main/osx-64::service_identity-18.1.0-py37h28b3542_0\n",
      "\n",
      "The following packages will be DOWNGRADED:\n",
      "\n",
      "  geos                                     3.8.0-h0a44026_0 --> 3.8.0-hb1e8313_0\n",
      "  lzo                                       2.10-h362108e_2 --> 2.10-haf1e3a3_2\n",
      "\n",
      "\n",
      "\n",
      "Downloading and Extracting Packages\n",
      "requests-2.24.0      | 56 KB     | ##################################### | 100% \n",
      "tblib-1.7.0          | 16 KB     | ##################################### | 100% \n",
      "pyasn1-0.4.8         | 57 KB     | ##################################### | 100% \n",
      "pytest-runner-5.2    | 13 KB     | ##################################### | 100% \n",
      "numpy-1.19.1         | 21 KB     | ##################################### | 100% \n",
      "jupyter_console-6.2. | 26 KB     | ##################################### | 100% \n",
      "python-dateutil-2.8. | 215 KB    | ##################################### | 100% \n",
      "mkl_fft-1.2.0        | 141 KB    | ##################################### | 100% \n",
      "networkx-2.5         | 1.1 MB    | ##################################### | 100% \n",
      "lz4-c-1.9.2          | 142 KB    | ##################################### | 100% \n",
      "pycodestyle-2.6.0    | 43 KB     | ##################################### | 100% \n",
      "brotlipy-0.7.0       | 329 KB    | ##################################### | 100% \n",
      "dask-2.27.0          | 5 KB      | ##################################### | 100% \n",
      "sphinxcontrib-qthelp | 25 KB     | ##################################### | 100% \n",
      "pydispatcher-2.0.5   | 19 KB     | ##################################### | 100% \n",
      "pixman-0.40.0        | 340 KB    | ##################################### | 100% \n",
      "lzo-2.10             | 141 KB    | ##################################### | 100% \n",
      "liblief-0.10.1       | 1.5 MB    | ##################################### | 100% \n"
     ]
    },
    {
     "name": "stdout",
     "output_type": "stream",
     "text": [
      "jupyter_core-4.6.3   | 70 KB     | ##################################### | 100% \n",
      "tqdm-4.49.0          | 55 KB     | ##################################### | 100% \n",
      "libiconv-1.16        | 693 KB    | ##################################### | 100% \n",
      "keyring-21.4.0       | 59 KB     | ##################################### | 100% \n",
      "conda-4.8.5          | 2.9 MB    | ##################################### | 100% \n",
      "pytables-3.6.1       | 1.1 MB    | ##################################### | 100% \n",
      "krb5-1.16.4          | 1021 KB   | ##################################### | 100% \n",
      "pyasn1-modules-0.2.8 | 72 KB     | ##################################### | 100% \n",
      "statsmodels-0.11.1   | 7.4 MB    | ##################################### | 100% \n",
      "asn1crypto-1.4.0     | 80 KB     | ##################################### | 100% \n",
      "regex-2020.7.14      | 315 KB    | ##################################### | 100% \n",
      "urllib3-1.25.10      | 98 KB     | ##################################### | 100% \n",
      "yaml-0.2.5           | 72 KB     | ##################################### | 100% \n",
      "future-0.18.2        | 630 KB    | ##################################### | 100% \n",
      "matplotlib-base-3.3. | 5.1 MB    | ##################################### | 100% \n",
      "mkl_random-1.1.1     | 284 KB    | ##################################### | 100% \n",
      "gevent-20.6.2        | 1.4 MB    | ##################################### | 100% \n",
      "ipython-7.18.1       | 989 KB    | ##################################### | 100% \n",
      "pcre-8.44            | 185 KB    | ##################################### | 100% \n",
      "lxml-4.5.2           | 1.1 MB    | ##################################### | 100% \n",
      "distributed-2.27.0   | 1006 KB   | ##################################### | 100% \n",
      "backcall-0.2.0       | 15 KB     | ##################################### | 100% \n",
      "libllvm10-10.0.1     | 16.4 MB   | ##################################### | 100% \n",
      "bitarray-1.5.3       | 90 KB     | ##################################### | 100% \n",
      "typing_extensions-3. | 28 KB     | ##################################### | 100% \n",
      "cssselect-1.1.0      | 19 KB     | ##################################### | 100% \n",
      "seaborn-0.11.0       | 210 KB    | ##################################### | 100% \n",
      "kiwisolver-1.2.0     | 55 KB     | ##################################### | 100% \n",
      "openpyxl-3.0.5       | 158 KB    | ##################################### | 100% \n",
      "pycparser-2.20       | 94 KB     | ##################################### | 100% \n",
      "wheel-0.35.1         | 37 KB     | ##################################### | 100% \n",
      "llvm-openmp-10.0.0   | 236 KB    | ##################################### | 100% \n",
      "path-15.0.0          | 38 KB     | ##################################### | 100% \n",
      "cloudpickle-1.6.0    | 30 KB     | ##################################### | 100% \n",
      "dask-core-2.27.0     | 602 KB    | ##################################### | 100% \n",
      "fsspec-0.8.0         | 70 KB     | ##################################### | 100% \n",
      "icu-58.2             | 10.1 MB   | ##################################### | 100% \n",
      "backports.functools_ | 11 KB     | ##################################### | 100% \n",
      "ipykernel-5.3.4      | 182 KB    | ##################################### | 100% \n",
      "pywavelets-1.1.1     | 3.4 MB    | ##################################### | 100% \n",
      "sqlite-3.33.0        | 1.3 MB    | ##################################### | 100% \n",
      "contextlib2-0.6.0.po | 16 KB     | ##################################### | 100% \n",
      "cffi-1.14.0          | 216 KB    | ##################################### | 100% \n",
      "nbformat-5.0.7       | 89 KB     | ##################################### | 100% \n",
      "cryptography-3.1     | 549 KB    | ##################################### | 100% \n",
      "importlib_metadata-1 | 11 KB     | ##################################### | 100% \n",
      "cytoolz-0.10.1       | 307 KB    | ##################################### | 100% \n",
      "typed-ast-1.4.1      | 184 KB    | ##################################### | 100% \n",
      "wurlitzer-2.0.1      | 14 KB     | ##################################### | 100% \n",
      "numpy-base-1.19.1    | 4.0 MB    | ##################################### | 100% \n",
      "iniconfig-1.0.1      | 8 KB      | ##################################### | 100% \n",
      "tornado-6.0.4        | 597 KB    | ##################################### | 100% \n",
      "sphinxcontrib-serial | 24 KB     | ##################################### | 100% \n",
      "ruamel_yaml-0.15.87  | 235 KB    | ##################################### | 100% \n",
      "colorama-0.4.3       | 20 KB     | ##################################### | 100% \n",
      "pycrypto-2.6.1       | 365 KB    | ##################################### | 100% \n",
      "imagesize-1.2.0      | 10 KB     | ##################################### | 100% \n",
      "threadpoolctl-2.1.0  | 17 KB     | ##################################### | 100% \n",
      "nltk-3.5             | 976 KB    | ##################################### | 100% \n",
      "path.py-12.5.0       | 4 KB      | ##################################### | 100% \n",
      "importlib-metadata-1 | 52 KB     | ##################################### | 100% \n",
      "libxml2-2.9.10       | 1.1 MB    | ##################################### | 100% \n",
      "atomicwrites-1.4.0   | 11 KB     | ##################################### | 100% \n",
      "pytest-doctestplus-0 | 22 KB     | ##################################### | 100% \n",
      "snappy-1.1.8         | 54 KB     | ##################################### | 100% \n",
      "jsonschema-3.2.0     | 95 KB     | ##################################### | 100% \n",
      "pytest-astropy-heade | 12 KB     | ##################################### | 100% \n",
      "geos-3.8.0           | 815 KB    | ##################################### | 100% \n",
      "pyopenssl-19.1.0     | 48 KB     | ##################################### | 100% \n",
      "notebook-6.1.1       | 4.0 MB    | ##################################### | 100% \n",
      "pyyaml-5.3.1         | 165 KB    | ##################################### | 100% \n",
      "pluggy-0.13.1        | 33 KB     | ##################################### | 100% \n",
      "beautifulsoup4-4.9.1 | 172 KB    | ##################################### | 100% \n",
      "testpath-0.4.4       | 82 KB     | ##################################### | 100% \n",
      "argon2-cffi-20.1.0   | 44 KB     | ##################################### | 100% \n",
      "pyrsistent-0.17.3    | 87 KB     | ##################################### | 100% \n",
      "twisted-20.3.0       | 4.0 MB    | ##################################### | 100% \n",
      "pytest-astropy-0.8.0 | 9 KB      | ##################################### | 100% \n",
      "libssh2-1.9.0        | 250 KB    | ##################################### | 100% \n",
      "pyzmq-19.0.2         | 397 KB    | ##################################### | 100% \n",
      "h5py-2.10.0          | 810 KB    | ##################################### | 100% \n",
      "libsodium-1.0.18     | 236 KB    | ##################################### | 100% \n",
      "isort-5.5.3          | 145 KB    | ##################################### | 100% \n",
      "json5-0.9.5          | 22 KB     | ##################################### | 100% \n",
      "werkzeug-1.0.1       | 240 KB    | ##################################### | 100% \n",
      "mock-4.0.2           | 32 KB     | ##################################### | 100% \n",
      "openssl-1.1.1h       | 2.2 MB    | ##################################### | 100% \n",
      "babel-2.8.0          | 5.3 MB    | ##################################### | 100% \n",
      "packaging-20.4       | 36 KB     | ##################################### | 100% \n",
      "imageio-2.9.0        | 3.0 MB    | ##################################### | 100% \n",
      "astropy-4.0.1.post1  | 6.0 MB    | ##################################### | 100% \n",
      "nbconvert-5.6.1      | 458 KB    | ##################################### | 100% \n",
      "libtiff-4.1.0        | 405 KB    | ##################################### | 100% \n",
      "service_identity-18. | 20 KB     | ##################################### | 100% \n",
      "zipp-3.1.0           | 13 KB     | ##################################### | 100% \n",
      "scikit-image-0.16.2  | 22.5 MB   | ##################################### | 100% \n",
      "docutils-0.16        | 667 KB    | ##################################### | 100% \n",
      "qtawesome-0.7.2      | 724 KB    | ##################################### | 100% \n",
      "sortedcollections-1. | 13 KB     | ##################################### | 100% \n",
      "pandas-1.1.1         | 7.8 MB    | ##################################### | 100% \n",
      "blosc-1.20.0         | 56 KB     | ##################################### | 100% \n"
     ]
    },
    {
     "name": "stdout",
     "output_type": "stream",
     "text": [
      "libarchive-3.4.2     | 711 KB    | ##################################### | 100% \n",
      "pygments-2.7.1       | 671 KB    | ##################################### | 100% \n",
      "rope-0.17.0          | 127 KB    | ##################################### | 100% \n",
      "hypothesis-5.35.4    | 227 KB    | ##################################### | 100% \n",
      "py-1.9.0             | 79 KB     | ##################################### | 100% \n",
      "html5lib-1.1         | 93 KB     | ##################################### | 100% \n",
      "libffi-3.2.1         | 39 KB     | ##################################### | 100% \n",
      "fribidi-1.0.10       | 63 KB     | ##################################### | 100% \n",
      "psutil-5.7.2         | 337 KB    | ##################################### | 100% \n",
      "sphinxcontrib-websup | 34 KB     | ##################################### | 100% \n",
      "jupyterlab-2.2.6     | 3.4 MB    | ##################################### | 100% \n",
      "sphinxcontrib-htmlhe | 27 KB     | ##################################### | 100% \n",
      "flask-1.1.2          | 78 KB     | ##################################### | 100% \n",
      "msgpack-python-1.0.0 | 80 KB     | ##################################### | 100% \n",
      "bokeh-2.2.1          | 5.4 MB    | ##################################### | 100% \n",
      "cython-0.29.21       | 1.8 MB    | ##################################### | 100% \n",
      "greenlet-0.4.16      | 22 KB     | ##################################### | 100% \n",
      "idna-2.10            | 50 KB     | ##################################### | 100% \n",
      "lazy-object-proxy-1. | 28 KB     | ##################################### | 100% \n",
      "mpfr-4.0.2           | 433 KB    | ##################################### | 100% \n",
      "libxslt-1.1.34       | 395 KB    | ##################################### | 100% \n",
      "et_xmlfile-1.0.1     | 12 KB     | ##################################### | 100% \n",
      "parso-0.8.0          | 72 KB     | ##################################### | 100% \n",
      "incremental-17.5.0   | 25 KB     | ##################################### | 100% \n",
      "llvmlite-0.34.0      | 248 KB    | ##################################### | 100% \n",
      "pexpect-4.8.0        | 81 KB     | ##################################### | 100% \n",
      "graphite2-1.3.14     | 80 KB     | ##################################### | 100% \n",
      "freetype-2.10.2      | 570 KB    | ##################################### | 100% \n",
      "ca-certificates-2020 | 124 KB    | ##################################### | 100% \n",
      "zstd-1.4.5           | 442 KB    | ##################################### | 100% \n",
      "pyodbc-4.0.30        | 64 KB     | ##################################### | 100% \n",
      "pillow-7.2.0         | 581 KB    | ##################################### | 100% \n",
      "sqlalchemy-1.3.19    | 1.5 MB    | ##################################### | 100% \n",
      "joblib-0.16.0        | 210 KB    | ##################################### | 100% \n",
      "jupyter_client-6.1.6 | 84 KB     | ##################################### | 100% \n",
      "more-itertools-8.5.0 | 43 KB     | ##################################### | 100% \n",
      "partd-1.1.0          | 20 KB     | ##################################### | 100% \n",
      "ncurses-6.2          | 749 KB    | ##################################### | 100% \n",
      "zope.interface-5.1.0 | 276 KB    | ##################################### | 100% \n",
      "pip-20.2.2           | 1.7 MB    | ##################################### | 100% \n",
      "numpydoc-1.1.0       | 42 KB     | ##################################### | 100% \n",
      "prometheus_client-0. | 47 KB     | ##################################### | 100% \n",
      "libcxx-10.0.0        | 760 KB    | ##################################### | 100% \n",
      "jupyterlab_server-1. | 25 KB     | ##################################### | 100% \n",
      "bcrypt-3.2.0         | 42 KB     | ##################################### | 100% \n",
      "attrs-20.2.0         | 42 KB     | ##################################### | 100% \n",
      "python-libarchive-c- | 46 KB     | ##################################### | 100% \n",
      "conda-package-handli | 1.3 MB    | ##################################### | 100% \n",
      "bleach-3.2.1         | 112 KB    | ##################################### | 100% \n",
      "pyflakes-2.2.0       | 61 KB     | ##################################### | 100% \n",
      "expat-2.2.9          | 112 KB    | ##################################### | 100% \n",
      "pytz-2020.1          | 184 KB    | ##################################### | 100% \n",
      "numba-0.51.2         | 3.1 MB    | ##################################### | 100% \n",
      "appscript-1.1.1      | 130 KB    | ##################################### | 100% \n",
      "xlwings-0.20.7       | 427 KB    | ##################################### | 100% \n",
      "zope-1.0             | 4 KB      | ##################################### | 100% \n",
      "wcwidth-0.2.5        | 29 KB     | ##################################### | 100% \n",
      "prompt-toolkit-3.0.7 | 248 KB    | ##################################### | 100% \n",
      "qtconsole-4.7.6      | 96 KB     | ##################################### | 100% \n",
      "xz-5.2.5             | 240 KB    | ##################################### | 100% \n",
      "xlsxwriter-1.3.4     | 108 KB    | ##################################### | 100% \n",
      "automat-20.2.0       | 31 KB     | ##################################### | 100% \n",
      "pandoc-2.10.1        | 13.8 MB   | ##################################### | 100% \n",
      "py-lief-0.10.1       | 1022 KB   | ##################################### | 100% \n",
      "toml-0.10.1          | 20 KB     | ##################################### | 100% \n",
      "constantly-15.1.0    | 14 KB     | ##################################### | 100% \n",
      "pytest-openfiles-0.5 | 11 KB     | ##################################### | 100% \n",
      "pyhamcrest-2.0.2     | 30 KB     | ##################################### | 100% \n",
      "hyperlink-20.0.1     | 44 KB     | ##################################### | 100% \n",
      "jinja2-2.11.2        | 103 KB    | ##################################### | 100% \n",
      "bottleneck-1.3.2     | 107 KB    | ##################################### | 100% \n",
      "anaconda-project-0.8 | 210 KB    | ##################################### | 100% \n",
      "six-1.15.0           | 13 KB     | ##################################### | 100% \n",
      "tk-8.6.10            | 3.0 MB    | ##################################### | 100% \n",
      "sphinxcontrib-devhel | 22 KB     | ##################################### | 100% \n",
      "libxgboost-0.90      | 1.2 MB    | ##################################### | 100% \n",
      "pyparsing-2.4.7      | 65 KB     | ##################################### | 100% \n",
      "zope.event-4.4       | 9 KB      | ##################################### | 100% \n",
      "soupsieve-2.0.1      | 33 KB     | ##################################### | 100% \n",
      "_py-xgboost-mutex-2. | 8 KB      | ##################################### | 100% \n",
      "pylint-2.6.0         | 436 KB    | ##################################### | 100% \n",
      "astroid-2.4.2        | 279 KB    | ##################################### | 100% \n",
      "ripgrep-11.0.2       | 1.1 MB    | ##################################### | 100% \n",
      "pytest-6.0.2         | 411 KB    | ##################################### | 100% \n",
      "zict-2.0.0           | 13 KB     | ##################################### | 100% \n",
      "matplotlib-3.3.1     | 24 KB     | ##################################### | 100% \n",
      "lcms2-2.11           | 278 KB    | ##################################### | 100% \n",
      "sortedcontainers-2.2 | 29 KB     | ##################################### | 100% \n",
      "w3lib-1.21.0         | 182 KB    | ##################################### | 100% \n",
      "terminado-0.8.3      | 25 KB     | ##################################### | 100% \n",
      "libedit-3.1.20191231 | 96 KB     | ##################################### | 100% \n",
      "scikit-learn-0.23.2  | 4.7 MB    | ##################################### | 100% \n",
      "setuptools-49.6.0    | 744 KB    | ##################################### | 100% \n",
      "sympy-1.6.2          | 8.6 MB    | ##################################### | 100% \n",
      "sphinxcontrib-appleh | 27 KB     | ##################################### | 100% \n",
      "scipy-1.5.2          | 13.2 MB   | ##################################### | 100% \n",
      "decorator-4.4.2      | 14 KB     | ##################################### | 100% \n",
      "zeromq-4.3.2         | 421 KB    | ##################################### | 100% \n",
      "prompt_toolkit-3.0.7 | 12 KB     | ##################################### | 100% \n",
      "sphinx-3.2.1         | 1.1 MB    | ##################################### | 100% \n",
      "click-7.1.2          | 71 KB     | ##################################### | 100% \n"
     ]
    },
    {
     "name": "stdout",
     "output_type": "stream",
     "text": [
      "numexpr-2.7.1        | 121 KB    | ##################################### | 100% \n",
      "Preparing transaction: done\n",
      "Verifying transaction: done\n",
      "Executing transaction: done\n"
     ]
    }
   ],
   "source": [
    "# !conda upgrade pandas -y"
   ]
  },
  {
   "cell_type": "code",
   "execution_count": null,
   "metadata": {
    "ExecuteTime": {
     "end_time": "2020-09-22T22:54:33.571376Z",
     "start_time": "2020-09-22T22:54:01.930Z"
    }
   },
   "outputs": [],
   "source": [
    "user_by_movie.index()"
   ]
  },
  {
   "cell_type": "code",
   "execution_count": null,
   "metadata": {
    "ExecuteTime": {
     "end_time": "2020-09-22T22:54:33.577836Z",
     "start_time": "2020-09-22T22:54:14.126Z"
    }
   },
   "outputs": [],
   "source": [
    "# import pickle\n",
    "# import pandas as pd\n",
    "# df_dists = pickle.load(open(\"dists.p\", \"rb\"))\n",
    "\n",
    "\n",
    "# assert compute_eucliy\n",
    "# dean_dist(2,2) == df_dists.query(\"user1 == 2 and user2 == 2\")['eucl_dist'][0], \"Oops!  The distance between a user and itself should be 0.0.\"\n",
    "# assert round(compute_euclidean_dist(2,66), 2) == round(df_dists.query(\"user1 == 2 and user2 == 66\")['eucl_dist'][1], 2), \"Oops!  The distance between user 2 and 66 should be about 2.24.\"\n",
    "# assert np.isnan(compute_euclidean_dist(2,104)) == np.isnan(df_dists.query(\"user1 == 2 and user2 == 104\")['eucl_dist'][4]), \"Oops!  The distance between user 2 and 104 should be 2.\"\n",
    "\n",
    "# print(\"If this is all you see, then it looks like your function passed all of our tests!\")"
   ]
  },
  {
   "cell_type": "markdown",
   "metadata": {},
   "source": [
    "### Using the Nearest Neighbors to Make Recommendations\n",
    "\n",
    "* df_dists (to obtain the neighbors)\n",
    "* user_items (to obtain the movies the neighbors and users have rated)\n",
    "* movies (to obtain the names of the movies)\n",
    "\n",
    "`7.` Complete the functions below, which allow you to find the recommendations for any user.  There are five functions which you will need:\n",
    "\n",
    "* **find_closest_neighbors** - this returns a list of user_ids from closest neighbor to farthest neighbor using euclidean distance\n",
    "\n",
    "\n",
    "* **movies_liked** - returns an array of movie_ids\n",
    "\n",
    "\n",
    "* **movie_names** - takes the output of movies_liked and returns a list of movie names associated with the movie_ids\n",
    "\n",
    "\n",
    "* **make_recommendations** - takes a user id and goes through closest neighbors to return a list of movie names as recommendations\n",
    "\n",
    "\n",
    "* **all_recommendations** = loops through every user and returns a dictionary of with the key as a user_id and the value as a list of movie recommendations"
   ]
  },
  {
   "cell_type": "code",
   "execution_count": 82,
   "metadata": {
    "ExecuteTime": {
     "end_time": "2020-09-22T22:34:37.606089Z",
     "start_time": "2020-09-22T22:34:37.553005Z"
    }
   },
   "outputs": [
    {
     "ename": "NameError",
     "evalue": "name 'df_dists' is not defined",
     "output_type": "error",
     "traceback": [
      "\u001b[0;31m---------------------------------------------------------------------------\u001b[0m",
      "\u001b[0;31mNameError\u001b[0m                                 Traceback (most recent call last)",
      "\u001b[0;32m<ipython-input-82-033256ce08fc>\u001b[0m in \u001b[0;36m<module>\u001b[0;34m\u001b[0m\n\u001b[1;32m    115\u001b[0m     \u001b[0;32mreturn\u001b[0m \u001b[0mall_recs\u001b[0m\u001b[0;34m\u001b[0m\u001b[0;34m\u001b[0m\u001b[0m\n\u001b[1;32m    116\u001b[0m \u001b[0;34m\u001b[0m\u001b[0m\n\u001b[0;32m--> 117\u001b[0;31m \u001b[0mall_recs\u001b[0m \u001b[0;34m=\u001b[0m \u001b[0mall_recommendations\u001b[0m\u001b[0;34m(\u001b[0m\u001b[0;36m10\u001b[0m\u001b[0;34m)\u001b[0m\u001b[0;34m\u001b[0m\u001b[0;34m\u001b[0m\u001b[0m\n\u001b[0m",
      "\u001b[0;32m<ipython-input-82-033256ce08fc>\u001b[0m in \u001b[0;36mall_recommendations\u001b[0;34m(num_recs)\u001b[0m\n\u001b[1;32m     90\u001b[0m \u001b[0;34m\u001b[0m\u001b[0m\n\u001b[1;32m     91\u001b[0m     \u001b[0;31m# All the users we need to make recommendations for\u001b[0m\u001b[0;34m\u001b[0m\u001b[0;34m\u001b[0m\u001b[0;34m\u001b[0m\u001b[0m\n\u001b[0;32m---> 92\u001b[0;31m     \u001b[0musers\u001b[0m \u001b[0;34m=\u001b[0m \u001b[0mnp\u001b[0m\u001b[0;34m.\u001b[0m\u001b[0munique\u001b[0m\u001b[0;34m(\u001b[0m\u001b[0mdf_dists\u001b[0m\u001b[0;34m[\u001b[0m\u001b[0;34m'user1'\u001b[0m\u001b[0;34m]\u001b[0m\u001b[0;34m)\u001b[0m\u001b[0;34m\u001b[0m\u001b[0;34m\u001b[0m\u001b[0m\n\u001b[0m\u001b[1;32m     93\u001b[0m     \u001b[0mn_users\u001b[0m \u001b[0;34m=\u001b[0m \u001b[0mlen\u001b[0m\u001b[0;34m(\u001b[0m\u001b[0musers\u001b[0m\u001b[0;34m)\u001b[0m\u001b[0;34m\u001b[0m\u001b[0;34m\u001b[0m\u001b[0m\n\u001b[1;32m     94\u001b[0m \u001b[0;34m\u001b[0m\u001b[0m\n",
      "\u001b[0;31mNameError\u001b[0m: name 'df_dists' is not defined"
     ]
    }
   ],
   "source": [
    "def find_closest_neighbors(user):\n",
    "    '''\n",
    "    INPUT:\n",
    "        user - (int) the user_id of the individual you want to find the closest users\n",
    "    OUTPUT:\n",
    "        closest_neighbors - an array of the id's of the users sorted from closest to farthest away\n",
    "    '''\n",
    "\n",
    "    \n",
    "    closest_users = df_dists[df_dists['user1']==user].sort_values(by='eucl_dist').iloc[1:]['user2']\n",
    "    closest_neighbors = np.array(closest_users)\n",
    "    \n",
    "    return closest_neighbors\n",
    "    \n",
    "    \n",
    "    \n",
    "def movies_liked(user_id, min_rating=7):\n",
    "    '''\n",
    "    INPUT:\n",
    "    user_id - the user_id of an individual as int\n",
    "    min_rating - the minimum rating considered while still a movie is still a \"like\" and not a \"dislike\"\n",
    "    OUTPUT:\n",
    "    movies_liked - an array of movies the user has watched and liked\n",
    "    '''\n",
    "    movies_liked = np.array(user_items.query('user_id == @user_id and rating > (@min_rating -1)')['movie_id'])\n",
    "    \n",
    "    return movies_liked\n",
    "\n",
    "\n",
    "def movie_names(movie_ids):\n",
    "    '''\n",
    "    INPUT\n",
    "    movie_ids - a list of movie_ids\n",
    "    OUTPUT\n",
    "    movies - a list of movie names associated with the movie_ids\n",
    "    \n",
    "    '''\n",
    "    movie_lst = list(movies[movies['movie_id'].isin(movie_ids)]['movie'])\n",
    "   \n",
    "    return movie_lst\n",
    "    \n",
    "    \n",
    "def make_recommendations(user, num_recs=10):\n",
    "    '''\n",
    "    INPUT:\n",
    "        user - (int) a user_id of the individual you want to make recommendations for\n",
    "        num_recs - (int) number of movies to return\n",
    "    OUTPUT:\n",
    "        recommendations - a list of movies - if there are \"num_recs\" recommendations return this many\n",
    "                          otherwise return the total number of recommendations available for the \"user\"\n",
    "                          which may just be an empty list\n",
    "    '''\n",
    "    # I wanted to make recommendations by pulling different movies than the user has already seen\n",
    "    # Go in order from closest to farthest to find movies you would recommend\n",
    "    # I also only considered movies where the closest user rated the movie as a 9 or 10\n",
    "    \n",
    "    # movies_seen by user (we don't want to recommend these)\n",
    "    movies_seen = movies_watched(user)\n",
    "    closest_neighbors = find_closest_neighbors(user)\n",
    "    \n",
    "    # Keep the recommended movies here\n",
    "    recs = np.array([])\n",
    "    \n",
    "    # Go through the neighbors and identify movies they like the user hasn't seen\n",
    "    for neighbor in closest_neighbors:\n",
    "        neighbs_likes = movies_liked(neighbor)\n",
    "        \n",
    "        #Obtain recommendations for each neighbor\n",
    "        new_recs = np.setdiff1d(neighbs_likes, movies_seen, assume_unique=True)\n",
    "        \n",
    "        # Update recs with new recs\n",
    "        recs = np.unique(np.concatenate([new_recs, recs], axis=0))\n",
    "        \n",
    "        # If we have enough recommendations exit the loop\n",
    "        if len(recs) > num_recs-1:\n",
    "            break\n",
    "    \n",
    "    # Pull movie titles using movie ids\n",
    "    recommendations = movie_names(recs)\n",
    "    \n",
    "    return recommendations\n",
    "\n",
    "def all_recommendations(num_recs=10):\n",
    "    '''\n",
    "    INPUT \n",
    "        num_recs (int) the (max) number of recommendations for each user\n",
    "    OUTPUT\n",
    "        all_recs - a dictionary where each key is a user_id and the value is an array of recommended movie titles\n",
    "    '''\n",
    "    \n",
    "    # All the users we need to make recommendations for\n",
    "    users = np.unique(df_dists['user1'])\n",
    "    n_users = len(users)\n",
    "    \n",
    "    #Store all recommendations in this dictionary\n",
    "    all_recs = dict()\n",
    "    \n",
    "    \n",
    "    # Set up a progress bar\n",
    "    cnter = 0\n",
    "    bar = progressbar.ProgressBar(maxval=n_users+1, widgets=[progressbar.Bar('=', '[', ']'), ' ', progressbar.Percentage()])\n",
    "    bar.start()\n",
    "    \n",
    "    # Make the recommendations for each user\n",
    "    for user in users:\n",
    "        all_recs[user] = make_recommendations(user, num_recs)\n",
    "        \n",
    "        # update progress bar\n",
    "        cnter+=1 \n",
    "        bar.update(cnter)\n",
    "        \n",
    "    bar.finish()\n",
    "        \n",
    "    \n",
    "    return all_recs\n",
    "\n",
    "all_recs = all_recommendations(10)"
   ]
  },
  {
   "cell_type": "code",
   "execution_count": 93,
   "metadata": {
    "ExecuteTime": {
     "end_time": "2020-09-22T22:44:51.516669Z",
     "start_time": "2020-09-22T22:44:50.940987Z"
    }
   },
   "outputs": [],
   "source": [
    "# This make some time - it loads our solution dictionary so you can compare results\n",
    "all_recs_sol = pickle.load(open(\"data/all_recs.p\", \"rb\"))"
   ]
  },
  {
   "cell_type": "code",
   "execution_count": 19,
   "metadata": {
    "scrolled": true
   },
   "outputs": [
    {
     "name": "stdout",
     "output_type": "stream",
     "text": [
      "If you made it here, you now have recommendations for many users using collaborative filtering!\n"
     ]
    },
    {
     "data": {
      "text/html": [
       "<img src=\"images/greatjob.webp\">"
      ],
      "text/plain": [
       "<IPython.core.display.HTML object>"
      ]
     },
     "execution_count": 19,
     "metadata": {},
     "output_type": "execute_result"
    }
   ],
   "source": [
    "assert all_recs[2] == make_recommendations(2), \"Oops!  Your recommendations for user 2 didn't match ours.\"\n",
    "assert all_recs[26] == make_recommendations(26), \"Oops!  It actually wasn't possible to make any recommendations for user 26.\"\n",
    "assert all_recs[1503] == make_recommendations(1503), \"Oops! Looks like your solution for user 1503 didn't match ours.\"\n",
    "print(\"If you made it here, you now have recommendations for many users using collaborative filtering!\")\n"
   ]
  },
  {
   "cell_type": "markdown",
   "metadata": {},
   "source": [
    "### Now What?\n",
    "\n",
    "If you made it this far, you have successfully implemented a solution to making recommendations using collaborative filtering. \n",
    "\n",
    "`8.` Let's do a quick recap of the steps taken to obtain recommendations using collaborative filtering.  "
   ]
  },
  {
   "cell_type": "code",
   "execution_count": 20,
   "metadata": {},
   "outputs": [
    {
     "name": "stdout",
     "output_type": "stream",
     "text": [
      "Looks like you have a good grasp of the recommendations made in this notebook!\n"
     ]
    }
   ],
   "source": [
    "# Check your understanding of the results by correctly filling in the dictionary below\n",
    "a = \"pearson's correlation and spearman's correlation\"\n",
    "b = 'item based collaborative filtering'\n",
    "c = \"there were too many ratings to get a stable metric\"\n",
    "d = 'user based collaborative filtering'\n",
    "e = \"euclidean distance and pearson's correlation coefficient\"\n",
    "f = \"manhatten distance and euclidean distance\"\n",
    "g = \"spearman's correlation and euclidean distance\"\n",
    "h = \"the spread in some ratings was zero\"\n",
    "i = 'content based recommendation'\n",
    "\n",
    "sol_dict = {\n",
    "    'The type of recommendation system implemented here was a ...': d,\n",
    "    'The two methods used to estimate user similarity were: ': e,\n",
    "    'There was an issue with using the correlation coefficient.  What was it?': h\n",
    "}\n",
    "\n",
    "t.test_recs(sol_dict)"
   ]
  },
  {
   "cell_type": "markdown",
   "metadata": {},
   "source": [
    "Additionally, let's take a closer look at some of the results.  There are three objects that you read in to check your results against the solution:\n",
    "\n",
    "* **df_corrs** - a dataframe of user1, user2, pearson correlation between the two users\n",
    "* **df_dists** - a dataframe of user1, user2, euclidean distance between the two users\n",
    "* **all_recs_sol** - a dictionary of all recommendations (key = user, value = list of recommendations)\n",
    "\n",
    "Looping your results from the correlation and euclidean distance functions through every pair of users could have been used to create the first two objects (I don't recommend doing this given how long it will take).  \n",
    "\n",
    "`9.`Use these three objects along with the cells below to correctly fill in the dictionary below and complete this notebook!"
   ]
  },
  {
   "cell_type": "code",
   "execution_count": 21,
   "metadata": {},
   "outputs": [
    {
     "name": "stdout",
     "output_type": "stream",
     "text": [
      "Nice job! Your solution looks like it matches what we expected.\n"
     ]
    }
   ],
   "source": [
    "a = 567\n",
    "b = 1503\n",
    "c = 1319\n",
    "d = 1325\n",
    "e = 2526710\n",
    "f = 0\n",
    "g = 'Use another method to make recommendations - content based, knowledge based, or model based collaborative filtering'\n",
    "\n",
    "sol_dict2 = {\n",
    "    'For how many pairs of users were we not able to obtain a measure of similarity using correlation?': e,\n",
    "    'For how many pairs of users were we not able to obtain a measure of similarity using euclidean distance?': f,\n",
    "    'For how many users were we unable to make any recommendations for using collaborative filtering?': c,\n",
    "    'For how many users were we unable to make 10 recommendations for using collaborative filtering?': d,\n",
    "    'What might be a way for us to get 10 recommendations for every user?': g   \n",
    "}\n",
    "\n",
    "t.test_recs2(sol_dict2)"
   ]
  },
  {
   "cell_type": "code",
   "execution_count": 22,
   "metadata": {},
   "outputs": [],
   "source": [
    "#Use the below cells for any work you need to do!"
   ]
  },
  {
   "cell_type": "code",
   "execution_count": 23,
   "metadata": {},
   "outputs": [
    {
     "data": {
      "text/plain": [
       "1319"
      ]
     },
     "execution_count": 23,
     "metadata": {},
     "output_type": "execute_result"
    }
   ],
   "source": [
    "# Users without recs\n",
    "users_without_recs = []\n",
    "for user, movie_recs in all_recs.items():\n",
    "    if len(movie_recs) == 0:\n",
    "        users_without_recs.append(user)\n",
    "    \n",
    "len(users_without_recs)"
   ]
  },
  {
   "cell_type": "code",
   "execution_count": 24,
   "metadata": {},
   "outputs": [
    {
     "data": {
      "text/plain": [
       "2526710"
      ]
     },
     "execution_count": 24,
     "metadata": {},
     "output_type": "execute_result"
    }
   ],
   "source": [
    "# NaN correlation values\n",
    "df_corrs['movie_corr'].isnull().sum()"
   ]
  },
  {
   "cell_type": "code",
   "execution_count": 25,
   "metadata": {},
   "outputs": [
    {
     "data": {
      "text/plain": [
       "0"
      ]
     },
     "execution_count": 25,
     "metadata": {},
     "output_type": "execute_result"
    }
   ],
   "source": [
    "# NaN euclidean distance values\n",
    "df_dists['eucl_dist'].isnull().sum()"
   ]
  },
  {
   "cell_type": "code",
   "execution_count": 26,
   "metadata": {},
   "outputs": [
    {
     "data": {
      "text/plain": [
       "1325"
      ]
     },
     "execution_count": 26,
     "metadata": {},
     "output_type": "execute_result"
    }
   ],
   "source": [
    "# Users with less than 10 recs\n",
    "users_with_less_than_10recs = []\n",
    "for user, movie_recs in all_recs.items():\n",
    "    if len(movie_recs) < 10:\n",
    "        users_with_less_than_10recs.append(user)\n",
    "    \n",
    "len(users_with_less_than_10recs)"
   ]
  }
 ],
 "metadata": {
  "hide_input": false,
  "kernelspec": {
   "display_name": "Python 3",
   "language": "python",
   "name": "python3"
  },
  "language_info": {
   "codemirror_mode": {
    "name": "ipython",
    "version": 3
   },
   "file_extension": ".py",
   "mimetype": "text/x-python",
   "name": "python",
   "nbconvert_exporter": "python",
   "pygments_lexer": "ipython3",
   "version": "3.7.4"
  },
  "toc": {
   "base_numbering": 1,
   "nav_menu": {},
   "number_sections": true,
   "sideBar": true,
   "skip_h1_title": false,
   "title_cell": "Table of Contents",
   "title_sidebar": "Contents",
   "toc_cell": false,
   "toc_position": {},
   "toc_section_display": true,
   "toc_window_display": false
  },
  "varInspector": {
   "cols": {
    "lenName": 16,
    "lenType": 16,
    "lenVar": 40
   },
   "kernels_config": {
    "python": {
     "delete_cmd_postfix": "",
     "delete_cmd_prefix": "del ",
     "library": "var_list.py",
     "varRefreshCmd": "print(var_dic_list())"
    },
    "r": {
     "delete_cmd_postfix": ") ",
     "delete_cmd_prefix": "rm(",
     "library": "var_list.r",
     "varRefreshCmd": "cat(var_dic_list()) "
    }
   },
   "types_to_exclude": [
    "module",
    "function",
    "builtin_function_or_method",
    "instance",
    "_Feature"
   ],
   "window_display": false
  }
 },
 "nbformat": 4,
 "nbformat_minor": 2
}
